{
 "cells": [
  {
   "cell_type": "markdown",
   "id": "e2c3da98",
   "metadata": {},
   "source": [
    "# Insurance Charges Prediction"
   ]
  },
  {
   "cell_type": "markdown",
   "id": "624539d8",
   "metadata": {},
   "source": [
    "This project explores the factors affecting insurance charges and builds a predictive model using regression techniques."
   ]
  },
  {
   "cell_type": "code",
   "execution_count": 1,
   "id": "be42a531",
   "metadata": {},
   "outputs": [],
   "source": [
    "import numpy as np\n",
    "import pandas as pd\n",
    "import matplotlib.pyplot as plt\n",
    "from scipy import stats\n",
    "from scipy.stats import zscore \n",
    "from sklearn.metrics import r2_score, mean_squared_error, mean_absolute_error\n",
    "from sklearn.preprocessing import StandardScaler, OrdinalEncoder, OneHotEncoder, FunctionTransformer\n",
    "from sklearn.model_selection import train_test_split, GridSearchCV, cross_val_score\n",
    "from sklearn.linear_model import LinearRegression, Ridge, Lasso, PoissonRegressor\n",
    "from sklearn.tree import DecisionTreeRegressor\n",
    "from sklearn.ensemble import RandomForestRegressor, GradientBoostingRegressor\n",
    "from sklearn.svm import SVR\n",
    "from sklearn.neighbors import KNeighborsRegressor\n",
    "from sklearn.inspection import permutation_importance\n",
    "from sklearn.compose import ColumnTransformer\n",
    "from sklearn.pipeline import Pipeline\n",
    "import joblib"
   ]
  },
  {
   "cell_type": "markdown",
   "id": "edcb7617",
   "metadata": {},
   "source": [
    "# Data Understanding"
   ]
  },
  {
   "cell_type": "markdown",
   "id": "25829712",
   "metadata": {},
   "source": [
    "## Data Dictionary"
   ]
  },
  {
   "cell_type": "markdown",
   "id": "0eb13203",
   "metadata": {},
   "source": [
    "| Column   | Description                    |\n",
    "| -------- | ------------------------------ |\n",
    "| `Age`      | Age of the customer            |\n",
    "| `Sex`      | Biological sex of the customer |\n",
    "| `BMI`      | Body Mass Index                |\n",
    "| `Children` | Number of children             |\n",
    "| `Smoker`   | Smoker status (yes/no)         |\n",
    "| `Region`   | Customer's region              |\n",
    "| `Charges`  | Annual insurance charges       |"
   ]
  },
  {
   "cell_type": "markdown",
   "id": "59fa69c8",
   "metadata": {},
   "source": [
    "## Initial Observations"
   ]
  },
  {
   "cell_type": "code",
   "execution_count": 2,
   "id": "ce051f7f",
   "metadata": {},
   "outputs": [
    {
     "name": "stdout",
     "output_type": "stream",
     "text": [
      "   age     sex     bmi  children smoker     region      charges\n",
      "0   19  female  27.900         0    yes  southwest  16884.92400\n",
      "1   18    male  33.770         1     no  southeast   1725.55230\n",
      "2   28    male  33.000         3     no  southeast   4449.46200\n",
      "3   33    male  22.705         0     no  northwest  21984.47061\n",
      "4   32    male  28.880         0     no  northwest   3866.85520\n",
      "\n",
      "<class 'pandas.core.frame.DataFrame'>\n",
      "RangeIndex: 1338 entries, 0 to 1337\n",
      "Data columns (total 7 columns):\n",
      " #   Column    Non-Null Count  Dtype  \n",
      "---  ------    --------------  -----  \n",
      " 0   age       1338 non-null   int64  \n",
      " 1   sex       1338 non-null   object \n",
      " 2   bmi       1338 non-null   float64\n",
      " 3   children  1338 non-null   int64  \n",
      " 4   smoker    1338 non-null   object \n",
      " 5   region    1338 non-null   object \n",
      " 6   charges   1338 non-null   float64\n",
      "dtypes: float64(2), int64(2), object(3)\n",
      "memory usage: 73.3+ KB\n",
      "None\n"
     ]
    }
   ],
   "source": [
    "# Reading the CSV file\n",
    "df = pd.read_csv('insurance.csv')\n",
    "\n",
    "# High-level understanding of the dataset\n",
    "print(df.head())\n",
    "print()\n",
    "print(df.info())"
   ]
  },
  {
   "cell_type": "markdown",
   "id": "18bcfe2d",
   "metadata": {},
   "source": [
    "## Univariate Analysis"
   ]
  },
  {
   "cell_type": "markdown",
   "id": "9ad558c6",
   "metadata": {},
   "source": [
    "### Univariate Statistics"
   ]
  },
  {
   "cell_type": "markdown",
   "id": "1185ed79",
   "metadata": {},
   "source": [
    "#### Numeric Variables"
   ]
  },
  {
   "cell_type": "code",
   "execution_count": 3,
   "id": "c49f1b30",
   "metadata": {},
   "outputs": [
    {
     "data": {
      "text/html": [
       "<div>\n",
       "<style scoped>\n",
       "    .dataframe tbody tr th:only-of-type {\n",
       "        vertical-align: middle;\n",
       "    }\n",
       "\n",
       "    .dataframe tbody tr th {\n",
       "        vertical-align: top;\n",
       "    }\n",
       "\n",
       "    .dataframe thead th {\n",
       "        text-align: right;\n",
       "    }\n",
       "</style>\n",
       "<table border=\"1\" class=\"dataframe\">\n",
       "  <thead>\n",
       "    <tr style=\"text-align: right;\">\n",
       "      <th></th>\n",
       "      <th>count</th>\n",
       "      <th>type</th>\n",
       "      <th>missing</th>\n",
       "      <th>missing %</th>\n",
       "      <th>unique</th>\n",
       "      <th>mean</th>\n",
       "      <th>std</th>\n",
       "      <th>min</th>\n",
       "      <th>25%</th>\n",
       "      <th>50%</th>\n",
       "      <th>75%</th>\n",
       "      <th>max</th>\n",
       "      <th>skew</th>\n",
       "      <th>kurt</th>\n",
       "    </tr>\n",
       "  </thead>\n",
       "  <tbody>\n",
       "    <tr>\n",
       "      <th>age</th>\n",
       "      <td>1338.0</td>\n",
       "      <td>int64</td>\n",
       "      <td>0</td>\n",
       "      <td>0.0</td>\n",
       "      <td>47</td>\n",
       "      <td>39.21</td>\n",
       "      <td>14.05</td>\n",
       "      <td>18.00</td>\n",
       "      <td>27.00</td>\n",
       "      <td>39.00</td>\n",
       "      <td>51.00</td>\n",
       "      <td>64.00</td>\n",
       "      <td>0.06</td>\n",
       "      <td>-1.25</td>\n",
       "    </tr>\n",
       "    <tr>\n",
       "      <th>bmi</th>\n",
       "      <td>1338.0</td>\n",
       "      <td>float64</td>\n",
       "      <td>0</td>\n",
       "      <td>0.0</td>\n",
       "      <td>548</td>\n",
       "      <td>30.66</td>\n",
       "      <td>6.10</td>\n",
       "      <td>15.96</td>\n",
       "      <td>26.30</td>\n",
       "      <td>30.40</td>\n",
       "      <td>34.69</td>\n",
       "      <td>53.13</td>\n",
       "      <td>0.28</td>\n",
       "      <td>-0.05</td>\n",
       "    </tr>\n",
       "    <tr>\n",
       "      <th>children</th>\n",
       "      <td>1338.0</td>\n",
       "      <td>int64</td>\n",
       "      <td>0</td>\n",
       "      <td>0.0</td>\n",
       "      <td>6</td>\n",
       "      <td>1.09</td>\n",
       "      <td>1.21</td>\n",
       "      <td>0.00</td>\n",
       "      <td>0.00</td>\n",
       "      <td>1.00</td>\n",
       "      <td>2.00</td>\n",
       "      <td>5.00</td>\n",
       "      <td>0.94</td>\n",
       "      <td>0.20</td>\n",
       "    </tr>\n",
       "    <tr>\n",
       "      <th>charges</th>\n",
       "      <td>1338.0</td>\n",
       "      <td>float64</td>\n",
       "      <td>0</td>\n",
       "      <td>0.0</td>\n",
       "      <td>1337</td>\n",
       "      <td>13270.42</td>\n",
       "      <td>12110.01</td>\n",
       "      <td>1121.87</td>\n",
       "      <td>4740.29</td>\n",
       "      <td>9382.03</td>\n",
       "      <td>16639.91</td>\n",
       "      <td>63770.43</td>\n",
       "      <td>1.52</td>\n",
       "      <td>1.61</td>\n",
       "    </tr>\n",
       "  </tbody>\n",
       "</table>\n",
       "</div>"
      ],
      "text/plain": [
       "           count     type  missing  missing %  unique      mean       std  \\\n",
       "age       1338.0    int64        0        0.0      47     39.21     14.05   \n",
       "bmi       1338.0  float64        0        0.0     548     30.66      6.10   \n",
       "children  1338.0    int64        0        0.0       6      1.09      1.21   \n",
       "charges   1338.0  float64        0        0.0    1337  13270.42  12110.01   \n",
       "\n",
       "              min      25%      50%       75%       max  skew  kurt  \n",
       "age         18.00    27.00    39.00     51.00     64.00  0.06 -1.25  \n",
       "bmi         15.96    26.30    30.40     34.69     53.13  0.28 -0.05  \n",
       "children     0.00     0.00     1.00      2.00      5.00  0.94  0.20  \n",
       "charges   1121.87  4740.29  9382.03  16639.91  63770.43  1.52  1.61  "
      ]
     },
     "execution_count": 3,
     "metadata": {},
     "output_type": "execute_result"
    }
   ],
   "source": [
    "numeric_description = df.describe().T.round(2) # tranposed\n",
    "\n",
    "# adding data types, unique, missing, missing % values\n",
    "numeric_description.insert(1, 'type', df.dtypes)\n",
    "numeric_description.insert(2, 'missing', df.isna().sum())\n",
    "numeric_description.insert(3, 'missing %', round(df.isna().sum() / len(df), 2))\n",
    "numeric_description.insert(4, 'unique', df.nunique())\n",
    "\n",
    "# adding skewness & kurtosis\n",
    "numeric_variables = df.select_dtypes(['float','int'])\n",
    "numeric_description['skew'] = numeric_variables.skew().round(2)\n",
    "numeric_description['kurt'] = numeric_variables.kurt().round(2)\n",
    "\n",
    "numeric_description"
   ]
  },
  {
   "cell_type": "markdown",
   "id": "88401b37",
   "metadata": {},
   "source": [
    "#### Categorical Variables"
   ]
  },
  {
   "cell_type": "code",
   "execution_count": 4,
   "id": "a3f5bc68",
   "metadata": {},
   "outputs": [
    {
     "data": {
      "text/html": [
       "<div>\n",
       "<style scoped>\n",
       "    .dataframe tbody tr th:only-of-type {\n",
       "        vertical-align: middle;\n",
       "    }\n",
       "\n",
       "    .dataframe tbody tr th {\n",
       "        vertical-align: top;\n",
       "    }\n",
       "\n",
       "    .dataframe thead th {\n",
       "        text-align: right;\n",
       "    }\n",
       "</style>\n",
       "<table border=\"1\" class=\"dataframe\">\n",
       "  <thead>\n",
       "    <tr style=\"text-align: right;\">\n",
       "      <th></th>\n",
       "      <th>count</th>\n",
       "      <th>type</th>\n",
       "      <th>missing</th>\n",
       "      <th>missing %</th>\n",
       "      <th>unique</th>\n",
       "      <th>top</th>\n",
       "      <th>freq</th>\n",
       "    </tr>\n",
       "  </thead>\n",
       "  <tbody>\n",
       "    <tr>\n",
       "      <th>sex</th>\n",
       "      <td>1338</td>\n",
       "      <td>object</td>\n",
       "      <td>0</td>\n",
       "      <td>0.0</td>\n",
       "      <td>2</td>\n",
       "      <td>male</td>\n",
       "      <td>676</td>\n",
       "    </tr>\n",
       "    <tr>\n",
       "      <th>smoker</th>\n",
       "      <td>1338</td>\n",
       "      <td>object</td>\n",
       "      <td>0</td>\n",
       "      <td>0.0</td>\n",
       "      <td>2</td>\n",
       "      <td>no</td>\n",
       "      <td>1064</td>\n",
       "    </tr>\n",
       "    <tr>\n",
       "      <th>region</th>\n",
       "      <td>1338</td>\n",
       "      <td>object</td>\n",
       "      <td>0</td>\n",
       "      <td>0.0</td>\n",
       "      <td>4</td>\n",
       "      <td>southeast</td>\n",
       "      <td>364</td>\n",
       "    </tr>\n",
       "  </tbody>\n",
       "</table>\n",
       "</div>"
      ],
      "text/plain": [
       "       count    type  missing  missing % unique        top  freq\n",
       "sex     1338  object        0        0.0      2       male   676\n",
       "smoker  1338  object        0        0.0      2         no  1064\n",
       "region  1338  object        0        0.0      4  southeast   364"
      ]
     },
     "execution_count": 4,
     "metadata": {},
     "output_type": "execute_result"
    }
   ],
   "source": [
    "categorical_description = df.select_dtypes(['object']).describe(include='all').T\n",
    "\n",
    "# adding type, missing, missing %\n",
    "categorical_description.insert(1, 'type', df.dtypes)\n",
    "categorical_description.insert(2, 'missing', df.isna().sum())\n",
    "categorical_description.insert(3, 'missing %', round(df.isna().sum() / len(df), 2))\n",
    "\n",
    "categorical_description"
   ]
  },
  {
   "cell_type": "markdown",
   "id": "238032bd",
   "metadata": {},
   "source": [
    "### Univariate Visualizations"
   ]
  },
  {
   "cell_type": "markdown",
   "id": "92668f88",
   "metadata": {},
   "source": [
    "#### Numeric Variables"
   ]
  },
  {
   "cell_type": "code",
   "execution_count": 5,
   "id": "a61e6e1a",
   "metadata": {},
   "outputs": [
    {
     "data": {
      "image/png": "[encoded data removed]",
      "text/plain": [
       "<Figure size 400x300 with 1 Axes>"
      ]
     },
     "metadata": {},
     "output_type": "display_data"
    }
   ],
   "source": [
    "df['age'].plot.hist(bins=10,\n",
    "                    edgecolor='black',\n",
    "                    xlabel='Age Bins',\n",
    "                    title='Age Histogram',\n",
    "                    figsize=(4,3))\n",
    "plt.show()"
   ]
  },
  {
   "cell_type": "code",
   "execution_count": 6,
   "id": "4f2dda9c",
   "metadata": {},
   "outputs": [
    {
     "data": {
      "image/png": "[encoded data removed]",
      "text/plain": [
       "<Figure size 400x300 with 1 Axes>"
      ]
     },
     "metadata": {},
     "output_type": "display_data"
    }
   ],
   "source": [
    "df['bmi'].plot.hist(bins=10,\n",
    "                    edgecolor='black',\n",
    "                    xlabel='BMI Bins',\n",
    "                    title='BMI Histogram',\n",
    "                    figsize=(4,3))\n",
    "plt.show()"
   ]
  },
  {
   "cell_type": "code",
   "execution_count": 7,
   "id": "4c805daf",
   "metadata": {},
   "outputs": [
    {
     "data": {
      "image/png": "[encoded data removed]",
      "text/plain": [
       "<Figure size 400x300 with 1 Axes>"
      ]
     },
     "metadata": {},
     "output_type": "display_data"
    }
   ],
   "source": [
    "df['charges'].plot.hist(bins=10,\n",
    "                        edgecolor='black',\n",
    "                        xlabel='Charges Bins',\n",
    "                        title='Charges Histogram',\n",
    "                        figsize=(4,3))\n",
    "plt.xticks(rotation=90)\n",
    "plt.show()"
   ]
  },
  {
   "cell_type": "markdown",
   "id": "22752f22",
   "metadata": {},
   "source": [
    "**Note:** For discrete variables, bar charts provide clearer insights than histograms."
   ]
  },
  {
   "cell_type": "code",
   "execution_count": 8,
   "id": "8e70a915",
   "metadata": {},
   "outputs": [
    {
     "data": {
      "image/png": "[encoded data removed]",
      "text/plain": [
       "<Figure size 400x300 with 1 Axes>"
      ]
     },
     "metadata": {},
     "output_type": "display_data"
    }
   ],
   "source": [
    "df['children'].value_counts().plot.bar(edgecolor='black',\n",
    "                         xlabel='Children',\n",
    "                         title='Customers by Children',\n",
    "                         figsize=(4,3))\n",
    "plt.xticks(rotation=0)\n",
    "plt.show()"
   ]
  },
  {
   "cell_type": "markdown",
   "id": "62f08d41",
   "metadata": {},
   "source": [
    "#### Categorical Variables"
   ]
  },
  {
   "cell_type": "code",
   "execution_count": 9,
   "id": "facfef1c",
   "metadata": {},
   "outputs": [
    {
     "data": {
      "image/png": "[encoded data removed]",
      "text/plain": [
       "<Figure size 400x300 with 1 Axes>"
      ]
     },
     "metadata": {},
     "output_type": "display_data"
    }
   ],
   "source": [
    "df['smoker'].value_counts().plot.bar(edgecolor='black',\n",
    "                         xlabel='Smoker',\n",
    "                         title='Customers by Smoker Category',\n",
    "                         figsize=(4,3))\n",
    "plt.xticks(rotation=0)\n",
    "plt.show()"
   ]
  },
  {
   "cell_type": "code",
   "execution_count": 10,
   "id": "90de9896",
   "metadata": {},
   "outputs": [
    {
     "data": {
      "image/png": "[encoded data removed]",
      "text/plain": [
       "<Figure size 400x300 with 1 Axes>"
      ]
     },
     "metadata": {},
     "output_type": "display_data"
    }
   ],
   "source": [
    "df['sex'].value_counts().plot.bar(edgecolor='black',\n",
    "                         xlabel='Sex',\n",
    "                         title='Customers by Sex',\n",
    "                         figsize=(4,3))\n",
    "plt.xticks(rotation=0)\n",
    "plt.show()"
   ]
  },
  {
   "cell_type": "code",
   "execution_count": 11,
   "id": "4bfc507f",
   "metadata": {},
   "outputs": [
    {
     "data": {
      "image/png": "[encoded data removed]",
      "text/plain": [
       "<Figure size 400x300 with 1 Axes>"
      ]
     },
     "metadata": {},
     "output_type": "display_data"
    }
   ],
   "source": [
    "df['region'].value_counts().plot.bar(edgecolor='black',\n",
    "                         xlabel='Region',\n",
    "                         title='Customers by Region',\n",
    "                         figsize=(4,3))\n",
    "plt.xticks(rotation=0)\n",
    "plt.show()"
   ]
  },
  {
   "cell_type": "markdown",
   "id": "9815a8ae",
   "metadata": {},
   "source": [
    "### Observations\n",
    "\n",
    "1. `Age`:\n",
    "    * Distribution roughly uniform across adulthood (18–64).\n",
    "    * Slight positive skew but generally balanced.\n",
    "2. `BMI`:\n",
    "    * Mean ~30.7 (borderline obese).\n",
    "    * Distribution fairly normal, small right skew, with some high outliers (>45).\n",
    "3. `Children`:\n",
    "    * Most customers have 0–2 children; few with >3.\n",
    "    * Right skewed.\n",
    "4. `Charges`:\n",
    "    * Highly right-skewed; mean ~$13k but maximum ~$64k.\n",
    "    * Outliers present, especially for non-smokers.\n",
    "5. `Sex`: ~50/50 split (slightly more males).\n",
    "6. `Smoker`: Majority non-smokers (~80%).\n",
    "7. `Region`: Fairly balanced, but Southeast most frequent (~27%)."
   ]
  },
  {
   "cell_type": "markdown",
   "id": "18c09dc6",
   "metadata": {},
   "source": [
    "## Bivariate Analysis"
   ]
  },
  {
   "cell_type": "markdown",
   "id": "c94d951c",
   "metadata": {},
   "source": [
    "### Bivariate Statistics"
   ]
  },
  {
   "cell_type": "markdown",
   "id": "d0d8102c",
   "metadata": {},
   "source": [
    "##### Numeric-to-Numeric Relationships"
   ]
  },
  {
   "cell_type": "code",
   "execution_count": 12,
   "id": "08a61723",
   "metadata": {},
   "outputs": [
    {
     "name": "stdout",
     "output_type": "stream",
     "text": [
      "Correlation Matrix:\n",
      "            age    bmi  charges  children\n",
      "age       1.000  0.109    0.299     0.042\n",
      "bmi       0.109  1.000    0.198     0.013\n",
      "charges   0.299  0.198    1.000     0.068\n",
      "children  0.042  0.013    0.068     1.000\n",
      "\n",
      "Age & Charges:\n",
      "Pearson Correlation = 0.299, P-value = 0.000\n",
      "BMI & Charges:\n",
      "Pearson Correlation = 0.198, P-value = 0.000\n",
      "Children & Charges:\n",
      "Pearson Correlation = 0.068, P-value = 0.013\n"
     ]
    }
   ],
   "source": [
    "# correlation matrix\n",
    "correlation_matrix = df[['age', 'bmi', 'charges', 'children']].corr(method='pearson').round(3)\n",
    "print(f'Correlation Matrix:\\n{correlation_matrix}\\n')\n",
    "\n",
    "# one-on-one relationships\n",
    "corr, pvalue = stats.pearsonr(df['age'], df['charges'])\n",
    "print(f'Age & Charges:\\nPearson Correlation = {corr:.3f}, P-value = {pvalue:.3f}')\n",
    "corr, pvalue = stats.pearsonr(df['bmi'], df['charges'])\n",
    "print(f'BMI & Charges:\\nPearson Correlation = {corr:.3f}, P-value = {pvalue:.3f}')\n",
    "corr, pvalue = stats.pearsonr(df['children'], df['charges'])\n",
    "print(f'Children & Charges:\\nPearson Correlation = {corr:.3f}, P-value = {pvalue:.3f}')"
   ]
  },
  {
   "cell_type": "markdown",
   "id": "790fdefb",
   "metadata": {},
   "source": [
    "##### Categorical-to-Numeric Relationships"
   ]
  },
  {
   "cell_type": "code",
   "execution_count": 13,
   "id": "b2db5613",
   "metadata": {},
   "outputs": [
    {
     "name": "stdout",
     "output_type": "stream",
     "text": [
      "Smoker & Charges:\n",
      "T-Stat = 46.665, P-value = 0.000\n",
      "Sex & Charges:\n",
      "T-Stat = 2.098, P-value = 0.036\n",
      "Region & Charges:\n",
      "F-Stat = 2.970, P-value = 0.031\n",
      "Children & Charges:\n",
      "F-Stat = 3.297, P-value = 0.006\n"
     ]
    }
   ],
   "source": [
    "# Smoker - Charges\n",
    "tstat, pvalue = stats.ttest_ind(df[df['smoker'] == 'yes']['charges'],\n",
    "                                df[df['smoker'] == 'no']['charges'],\n",
    "                                equal_var='False') # Welch's test assumes heteroscedasticity\n",
    "print(f'Smoker & Charges:\\nT-Stat = {tstat:.3f}, P-value = {pvalue:.3f}')\n",
    "\n",
    "# Sex - Charges\n",
    "tstat, pvalue = stats.ttest_ind(df[df['sex'] == 'male']['charges'],\n",
    "                                df[df['sex'] == 'female']['charges'],\n",
    "                                equal_var='False')\n",
    "print(f'Sex & Charges:\\nT-Stat = {tstat:.3f}, P-value = {pvalue:.3f}')\n",
    "\n",
    "# Region - Charges\n",
    "region_groups = [df[df['region'] == k]['charges'] for k in df['region'].unique()]\n",
    "fstat, pvalue = stats.f_oneway(*region_groups)\n",
    "print(f'Region & Charges:\\nF-Stat = {fstat:.3f}, P-value = {pvalue:.3f}')\n",
    "\n",
    "# Children - Charges\n",
    "children_groups = [df[df['children'] == k]['charges'] for k in df['children'].unique()]\n",
    "fstat, pvalue = stats.f_oneway(*children_groups)\n",
    "print(f'Children & Charges:\\nF-Stat = {fstat:.3f}, P-value = {pvalue:.3f}')"
   ]
  },
  {
   "cell_type": "markdown",
   "id": "fe150f3a",
   "metadata": {},
   "source": [
    "### Bivariate Visualizations"
   ]
  },
  {
   "cell_type": "markdown",
   "id": "5d7d8853",
   "metadata": {},
   "source": [
    "##### Numeric-to-Numeric Relationships"
   ]
  },
  {
   "cell_type": "code",
   "execution_count": 14,
   "id": "04723411",
   "metadata": {},
   "outputs": [
    {
     "name": "stdout",
     "output_type": "stream",
     "text": [
      "Age & Charges\n",
      "\n",
      "R² scores:\n",
      "Linear: 0.089\n",
      "Poly2: 0.091\n",
      "Poly3: 0.091\n",
      "Log: 0.084\n",
      "Exponential: 0.009\n",
      "Power: 0.013\n"
     ]
    }
   ],
   "source": [
    "print('Age & Charges')\n",
    "print()\n",
    "x = df['age']\n",
    "y = df['charges']\n",
    "\n",
    "# 1. Linear\n",
    "slope, intercept = np.polyfit(x, y, 1)\n",
    "y_linear = intercept + slope * x\n",
    "\n",
    "# 2. Polynomial (degree 2)\n",
    "coeffs2 = np.polyfit(x, y, 2)\n",
    "y_poly2 = np.polyval(coeffs2, x)\n",
    "\n",
    "# 3. Polynomial (degree 3)\n",
    "coeffs3 = np.polyfit(x, y, 3)\n",
    "y_poly3 = np.polyval(coeffs3, x)\n",
    "\n",
    "# 4. Logarithmic: y = a*ln(x) + b\n",
    "log_x = np.log(x)\n",
    "slope_log, intercept_log = np.polyfit(log_x, y, 1)\n",
    "y_log = intercept_log + slope_log * log_x\n",
    "\n",
    "# 5. Exponential: y = a * e^(b*x)\n",
    "# take log(y) to linearize\n",
    "log_y = np.log(y)\n",
    "slope_exp, intercept_exp = np.polyfit(x, log_y, 1)\n",
    "y_exp = np.exp(intercept_exp + slope_exp * x)\n",
    "\n",
    "# 6. Power: log(y)=log(a)+b*log(x)\n",
    "# Log-transform both variables\n",
    "log_x = np.log(x)\n",
    "log_y = np.log(y)\n",
    "b, log_a = np.polyfit(log_x, log_y, 1)\n",
    "\n",
    "# Convert back to original scale\n",
    "a = np.exp(log_a)\n",
    "y_power = a * x**b\n",
    "\n",
    "# Compare R²\n",
    "print(\"R² scores:\")\n",
    "print(f'Linear: {round(r2_score(y, y_linear),3)}')\n",
    "print(f'Poly2: {round(r2_score(y, y_poly2),3)}')\n",
    "print(f'Poly3: {round(r2_score(y, y_poly3),3)}')\n",
    "print(f'Log: {round(r2_score(y, y_log),3)}')\n",
    "print(f'Exponential: {round(r2_score(y, y_exp),3)}')\n",
    "print(f'Power: {round(r2_score(y, y_power),3)}')"
   ]
  },
  {
   "cell_type": "code",
   "execution_count": 15,
   "id": "da1ec139",
   "metadata": {},
   "outputs": [
    {
     "data": {
      "image/png": "[encoded data removed]",
      "text/plain": [
       "<Figure size 400x300 with 1 Axes>"
      ]
     },
     "metadata": {},
     "output_type": "display_data"
    }
   ],
   "source": [
    "df.plot.scatter(x='age',\n",
    "                y='charges',\n",
    "                marker='.',\n",
    "                title='Age by Charges',\n",
    "                figsize=(4,3),\n",
    "                label='data')\n",
    "plt.plot(df['age'], y_linear, color='black', linewidth=1, label='trendline')\n",
    "plt.legend(bbox_to_anchor=(1, 1))\n",
    "plt.show()"
   ]
  },
  {
   "cell_type": "code",
   "execution_count": 16,
   "id": "5a40d333",
   "metadata": {},
   "outputs": [
    {
     "data": {
      "image/png": "[encoded data removed]",
      "text/plain": [
       "<Figure size 400x300 with 1 Axes>"
      ]
     },
     "metadata": {},
     "output_type": "display_data"
    }
   ],
   "source": [
    "df.plot.scatter(x='bmi',\n",
    "                y='charges',\n",
    "                marker='.',\n",
    "                title='BMI by Charges',\n",
    "                figsize=(4,3))\n",
    "plt.show()"
   ]
  },
  {
   "cell_type": "code",
   "execution_count": 17,
   "id": "e9250a33",
   "metadata": {},
   "outputs": [
    {
     "data": {
      "image/png": "[encoded data removed]",
      "text/plain": [
       "<Figure size 400x300 with 1 Axes>"
      ]
     },
     "metadata": {},
     "output_type": "display_data"
    }
   ],
   "source": [
    "df.plot.scatter(x='children',\n",
    "                y='charges',\n",
    "                marker='.',\n",
    "                title='Number of Children by Charges',\n",
    "                figsize=(4,3))\n",
    "plt.show()"
   ]
  },
  {
   "cell_type": "markdown",
   "id": "1f6f4d10",
   "metadata": {},
   "source": [
    "##### Categorical-to-Numeric Relationships"
   ]
  },
  {
   "cell_type": "code",
   "execution_count": 18,
   "id": "356890dc",
   "metadata": {},
   "outputs": [
    {
     "data": {
      "image/png": "[encoded data removed]",
      "text/plain": [
       "<Figure size 400x300 with 1 Axes>"
      ]
     },
     "metadata": {},
     "output_type": "display_data"
    }
   ],
   "source": [
    "df.groupby('smoker')['charges'].mean().plot.bar(title='Average Charges by Smoker',\n",
    "                                                edgecolor='black',\n",
    "                                                figsize=(4,3))\n",
    "plt.xticks(rotation=0)\n",
    "plt.show()"
   ]
  },
  {
   "cell_type": "code",
   "execution_count": 19,
   "id": "2925e598",
   "metadata": {},
   "outputs": [
    {
     "data": {
      "image/png": "[encoded data removed]",
      "text/plain": [
       "<Figure size 400x300 with 1 Axes>"
      ]
     },
     "metadata": {},
     "output_type": "display_data"
    }
   ],
   "source": [
    "df.groupby('sex')['charges'].mean().plot.bar(title='Average Charges by Sex',\n",
    "                                                edgecolor='black',\n",
    "                                                figsize=(4,3))\n",
    "plt.xticks(rotation=0)\n",
    "plt.show()"
   ]
  },
  {
   "cell_type": "code",
   "execution_count": 20,
   "id": "64b521a5",
   "metadata": {},
   "outputs": [
    {
     "data": {
      "image/png": "[encoded data removed]",
      "text/plain": [
       "<Figure size 400x300 with 1 Axes>"
      ]
     },
     "metadata": {},
     "output_type": "display_data"
    }
   ],
   "source": [
    "df.groupby('region')['charges'].mean().plot.bar(title='Average Charges by Region',\n",
    "                                                edgecolor='black',\n",
    "                                                figsize=(4,3))\n",
    "plt.xticks(rotation=0)\n",
    "plt.show()"
   ]
  },
  {
   "cell_type": "markdown",
   "id": "7fa06d83",
   "metadata": {},
   "source": [
    "### Observations\n",
    "\n",
    "1. **Correlation Heatmap**: Charges strongly correlated with smoker status, moderately with age and BMI.\n",
    "2. `Age` vs `Charges`: No strong linear correlation overall, but charges rise sharply for older people.\n",
    "3. `BMI` vs `Charges`: Charges increase with BMI for customer.\n",
    "4. `Children` vs `Charges`: Weak relationship; slight increase with more children, but not significant.\n",
    "5. `Sex` vs `Charges`: No strong difference between male/female overall.\n",
    "6. `Smoker` vs `Charges`: Very strong effect: smokers’ charges are several times higher than non-smokers. Key predictive feature.\n",
    "7. `Region` vs `Charges`: Small differences; region is not a strong driver."
   ]
  },
  {
   "cell_type": "markdown",
   "id": "36af2ff6",
   "metadata": {},
   "source": [
    "## Multivariate Analysis"
   ]
  },
  {
   "cell_type": "markdown",
   "id": "0fe05d0b",
   "metadata": {},
   "source": [
    "### Group Confounding"
   ]
  },
  {
   "cell_type": "code",
   "execution_count": 21,
   "id": "9f15a773",
   "metadata": {},
   "outputs": [
    {
     "data": {
      "text/html": [
       "<div>\n",
       "<style scoped>\n",
       "    .dataframe tbody tr th:only-of-type {\n",
       "        vertical-align: middle;\n",
       "    }\n",
       "\n",
       "    .dataframe tbody tr th {\n",
       "        vertical-align: top;\n",
       "    }\n",
       "\n",
       "    .dataframe thead tr th {\n",
       "        text-align: left;\n",
       "    }\n",
       "</style>\n",
       "<table border=\"1\" class=\"dataframe\">\n",
       "  <thead>\n",
       "    <tr>\n",
       "      <th></th>\n",
       "      <th>smoker</th>\n",
       "      <th colspan=\"2\" halign=\"left\">age</th>\n",
       "      <th colspan=\"2\" halign=\"left\">bmi</th>\n",
       "    </tr>\n",
       "    <tr>\n",
       "      <th></th>\n",
       "      <th></th>\n",
       "      <th>mean</th>\n",
       "      <th>count</th>\n",
       "      <th>mean</th>\n",
       "      <th>count</th>\n",
       "    </tr>\n",
       "  </thead>\n",
       "  <tbody>\n",
       "    <tr>\n",
       "      <th>0</th>\n",
       "      <td>no</td>\n",
       "      <td>39.385338</td>\n",
       "      <td>1064</td>\n",
       "      <td>30.651795</td>\n",
       "      <td>1064</td>\n",
       "    </tr>\n",
       "    <tr>\n",
       "      <th>1</th>\n",
       "      <td>yes</td>\n",
       "      <td>38.514599</td>\n",
       "      <td>274</td>\n",
       "      <td>30.708449</td>\n",
       "      <td>274</td>\n",
       "    </tr>\n",
       "  </tbody>\n",
       "</table>\n",
       "</div>"
      ],
      "text/plain": [
       "  smoker        age              bmi      \n",
       "               mean count       mean count\n",
       "0     no  39.385338  1064  30.651795  1064\n",
       "1    yes  38.514599   274  30.708449   274"
      ]
     },
     "execution_count": 21,
     "metadata": {},
     "output_type": "execute_result"
    }
   ],
   "source": [
    "# Smokers by Age & BMI\n",
    "df.groupby('smoker')[['age','bmi']].agg(['mean','count']).reset_index()"
   ]
  },
  {
   "cell_type": "markdown",
   "id": "6c93e18b",
   "metadata": {},
   "source": [
    "### Observations\n",
    "* `Age`: Mean difference = 39.39 − 38.51 ≈ 0.88 years → very small.\n",
    "* `BMI`: Mean difference = 30.71 − 30.65 ≈ 0.06 → negligible.\n",
    "* From these numbers, age and BMI don’t differ much between smokers and non-smokers — so they are not likely strong confounders here."
   ]
  },
  {
   "cell_type": "markdown",
   "id": "813fb5aa",
   "metadata": {},
   "source": [
    "# Data Preparation"
   ]
  },
  {
   "cell_type": "markdown",
   "id": "81469100",
   "metadata": {},
   "source": [
    "## Duplicate Data Handling"
   ]
  },
  {
   "cell_type": "code",
   "execution_count": 22,
   "id": "f5ff6e77",
   "metadata": {},
   "outputs": [
    {
     "data": {
      "text/html": [
       "<div>\n",
       "<style scoped>\n",
       "    .dataframe tbody tr th:only-of-type {\n",
       "        vertical-align: middle;\n",
       "    }\n",
       "\n",
       "    .dataframe tbody tr th {\n",
       "        vertical-align: top;\n",
       "    }\n",
       "\n",
       "    .dataframe thead th {\n",
       "        text-align: right;\n",
       "    }\n",
       "</style>\n",
       "<table border=\"1\" class=\"dataframe\">\n",
       "  <thead>\n",
       "    <tr style=\"text-align: right;\">\n",
       "      <th></th>\n",
       "      <th>age</th>\n",
       "      <th>sex</th>\n",
       "      <th>bmi</th>\n",
       "      <th>children</th>\n",
       "      <th>smoker</th>\n",
       "      <th>region</th>\n",
       "      <th>charges</th>\n",
       "    </tr>\n",
       "  </thead>\n",
       "  <tbody>\n",
       "    <tr>\n",
       "      <th>195</th>\n",
       "      <td>19</td>\n",
       "      <td>male</td>\n",
       "      <td>30.59</td>\n",
       "      <td>0</td>\n",
       "      <td>no</td>\n",
       "      <td>northwest</td>\n",
       "      <td>1639.5631</td>\n",
       "    </tr>\n",
       "    <tr>\n",
       "      <th>581</th>\n",
       "      <td>19</td>\n",
       "      <td>male</td>\n",
       "      <td>30.59</td>\n",
       "      <td>0</td>\n",
       "      <td>no</td>\n",
       "      <td>northwest</td>\n",
       "      <td>1639.5631</td>\n",
       "    </tr>\n",
       "  </tbody>\n",
       "</table>\n",
       "</div>"
      ],
      "text/plain": [
       "     age   sex    bmi  children smoker     region    charges\n",
       "195   19  male  30.59         0     no  northwest  1639.5631\n",
       "581   19  male  30.59         0     no  northwest  1639.5631"
      ]
     },
     "execution_count": 22,
     "metadata": {},
     "output_type": "execute_result"
    }
   ],
   "source": [
    "# checking duplicate records\n",
    "df[df.duplicated(keep=False)]"
   ]
  },
  {
   "cell_type": "markdown",
   "id": "9ace89f8",
   "metadata": {},
   "source": [
    "### Observations\n",
    "* Identified one duplicate record in the dataset.\n",
    "* Dataset doesn’t have a unique identifier (like id), so can’t be sure a duplicate row is truly the same person — it might just be two different people with identical features.\n",
    "* The impact on analysis is minimal, and removal is not necessary."
   ]
  },
  {
   "cell_type": "markdown",
   "id": "9951b364",
   "metadata": {},
   "source": [
    "## Missing Data Handling"
   ]
  },
  {
   "cell_type": "code",
   "execution_count": 23,
   "id": "0e9bf074",
   "metadata": {},
   "outputs": [
    {
     "data": {
      "text/plain": [
       "age         0\n",
       "sex         0\n",
       "bmi         0\n",
       "children    0\n",
       "smoker      0\n",
       "region      0\n",
       "charges     0\n",
       "dtype: int64"
      ]
     },
     "execution_count": 23,
     "metadata": {},
     "output_type": "execute_result"
    }
   ],
   "source": [
    "# checking missing data by columns\n",
    "df.isna().sum()"
   ]
  },
  {
   "cell_type": "markdown",
   "id": "6c30bac7",
   "metadata": {},
   "source": [
    "### Observations\n",
    "No missing data"
   ]
  },
  {
   "cell_type": "markdown",
   "id": "3d90edb9",
   "metadata": {},
   "source": [
    "## Feature Engineering"
   ]
  },
  {
   "cell_type": "markdown",
   "id": "84eae82c",
   "metadata": {},
   "source": [
    "### Math Transformations"
   ]
  },
  {
   "cell_type": "markdown",
   "id": "0f37c220",
   "metadata": {},
   "source": [
    "The `charges` variable is right-skewed and contains outliers. To address this, will apply log transformations to normalize its distribution and reduce the impact of extreme values."
   ]
  },
  {
   "cell_type": "code",
   "execution_count": 24,
   "id": "272a4a3b",
   "metadata": {},
   "outputs": [
    {
     "data": {
      "image/png": "[encoded data removed]",
      "text/plain": [
       "<Figure size 400x300 with 1 Axes>"
      ]
     },
     "metadata": {},
     "output_type": "display_data"
    }
   ],
   "source": [
    "df['charges_log'] = np.log(df['charges']) # log transformation\n",
    "\n",
    "df['charges_log'].plot.hist(edgecolor='black',\n",
    "                            title='Transformed Charges Histogram',\n",
    "                            figsize=(4,3))\n",
    "plt.show()"
   ]
  },
  {
   "cell_type": "markdown",
   "id": "c306106e",
   "metadata": {},
   "source": [
    "### Encoding"
   ]
  },
  {
   "cell_type": "code",
   "execution_count": 25,
   "id": "a7852164",
   "metadata": {},
   "outputs": [],
   "source": [
    "# Binary encoding for variables with 2 groups\n",
    "df['smoker_binary'] = df['smoker'].map({'no' : 0, 'yes' : 1})\n",
    "df['sex_binary'] = df['sex'].map({'female' : 0, 'male' : 1})\n",
    "\n",
    "# One-hot encoding for variables with 3+ groups\n",
    "region_dummies = pd.get_dummies(df['region'],\n",
    "               drop_first=True)\n",
    "df = pd.concat([df, region_dummies], axis=1)"
   ]
  },
  {
   "cell_type": "markdown",
   "id": "994d79e0",
   "metadata": {},
   "source": [
    "## Outlier Handling"
   ]
  },
  {
   "cell_type": "markdown",
   "id": "eb419b0f",
   "metadata": {},
   "source": [
    "### The Emphirical Rule / Z Score"
   ]
  },
  {
   "cell_type": "markdown",
   "id": "8ac7e8c8",
   "metadata": {},
   "source": [
    "Outlier detection is performed using the z-score/empirical rule, as `BMI` and `Charges_log` follow a near-normal distribution."
   ]
  },
  {
   "cell_type": "code",
   "execution_count": 26,
   "id": "3433fc89",
   "metadata": {},
   "outputs": [
    {
     "name": "stdout",
     "output_type": "stream",
     "text": [
      "Charges_log Outliers: 0\n",
      "BMI Outliers: 4\n"
     ]
    }
   ],
   "source": [
    "# Charges_log\n",
    "df['charges_log_z'] = zscore(df['charges_log'])\n",
    "print(f\"Charges_log Outliers: {len(df[df['charges_log_z'].abs() >= 3])}\")\n",
    "\n",
    "# BMI\n",
    "df['bmi_z'] = zscore(df['bmi'])\n",
    "print(f\"BMI Outliers: {len(df[df['bmi_z'].abs() >= 3])}\")"
   ]
  },
  {
   "cell_type": "code",
   "execution_count": 27,
   "id": "093d32bc",
   "metadata": {},
   "outputs": [
    {
     "data": {
      "text/html": [
       "<div>\n",
       "<style scoped>\n",
       "    .dataframe tbody tr th:only-of-type {\n",
       "        vertical-align: middle;\n",
       "    }\n",
       "\n",
       "    .dataframe tbody tr th {\n",
       "        vertical-align: top;\n",
       "    }\n",
       "\n",
       "    .dataframe thead th {\n",
       "        text-align: right;\n",
       "    }\n",
       "</style>\n",
       "<table border=\"1\" class=\"dataframe\">\n",
       "  <thead>\n",
       "    <tr style=\"text-align: right;\">\n",
       "      <th></th>\n",
       "      <th>age</th>\n",
       "      <th>sex</th>\n",
       "      <th>bmi</th>\n",
       "      <th>children</th>\n",
       "      <th>smoker</th>\n",
       "      <th>region</th>\n",
       "      <th>charges</th>\n",
       "      <th>charges_log</th>\n",
       "      <th>smoker_binary</th>\n",
       "      <th>sex_binary</th>\n",
       "      <th>northwest</th>\n",
       "      <th>southeast</th>\n",
       "      <th>southwest</th>\n",
       "      <th>charges_log_z</th>\n",
       "      <th>bmi_z</th>\n",
       "    </tr>\n",
       "  </thead>\n",
       "  <tbody>\n",
       "    <tr>\n",
       "      <th>116</th>\n",
       "      <td>58</td>\n",
       "      <td>male</td>\n",
       "      <td>49.06</td>\n",
       "      <td>0</td>\n",
       "      <td>no</td>\n",
       "      <td>southeast</td>\n",
       "      <td>11381.3254</td>\n",
       "      <td>9.339729</td>\n",
       "      <td>0</td>\n",
       "      <td>1</td>\n",
       "      <td>False</td>\n",
       "      <td>True</td>\n",
       "      <td>False</td>\n",
       "      <td>0.262266</td>\n",
       "      <td>3.017861</td>\n",
       "    </tr>\n",
       "    <tr>\n",
       "      <th>847</th>\n",
       "      <td>23</td>\n",
       "      <td>male</td>\n",
       "      <td>50.38</td>\n",
       "      <td>1</td>\n",
       "      <td>no</td>\n",
       "      <td>southeast</td>\n",
       "      <td>2438.0552</td>\n",
       "      <td>7.798956</td>\n",
       "      <td>0</td>\n",
       "      <td>1</td>\n",
       "      <td>False</td>\n",
       "      <td>True</td>\n",
       "      <td>False</td>\n",
       "      <td>-1.413975</td>\n",
       "      <td>3.234400</td>\n",
       "    </tr>\n",
       "    <tr>\n",
       "      <th>1047</th>\n",
       "      <td>22</td>\n",
       "      <td>male</td>\n",
       "      <td>52.58</td>\n",
       "      <td>1</td>\n",
       "      <td>yes</td>\n",
       "      <td>southeast</td>\n",
       "      <td>44501.3982</td>\n",
       "      <td>10.703276</td>\n",
       "      <td>1</td>\n",
       "      <td>1</td>\n",
       "      <td>False</td>\n",
       "      <td>True</td>\n",
       "      <td>False</td>\n",
       "      <td>1.745699</td>\n",
       "      <td>3.595298</td>\n",
       "    </tr>\n",
       "    <tr>\n",
       "      <th>1317</th>\n",
       "      <td>18</td>\n",
       "      <td>male</td>\n",
       "      <td>53.13</td>\n",
       "      <td>0</td>\n",
       "      <td>no</td>\n",
       "      <td>southeast</td>\n",
       "      <td>1163.4627</td>\n",
       "      <td>7.059156</td>\n",
       "      <td>0</td>\n",
       "      <td>1</td>\n",
       "      <td>False</td>\n",
       "      <td>True</td>\n",
       "      <td>False</td>\n",
       "      <td>-2.218820</td>\n",
       "      <td>3.685522</td>\n",
       "    </tr>\n",
       "  </tbody>\n",
       "</table>\n",
       "</div>"
      ],
      "text/plain": [
       "      age   sex    bmi  children smoker     region     charges  charges_log  \\\n",
       "116    58  male  49.06         0     no  southeast  11381.3254     9.339729   \n",
       "847    23  male  50.38         1     no  southeast   2438.0552     7.798956   \n",
       "1047   22  male  52.58         1    yes  southeast  44501.3982    10.703276   \n",
       "1317   18  male  53.13         0     no  southeast   1163.4627     7.059156   \n",
       "\n",
       "      smoker_binary  sex_binary  northwest  southeast  southwest  \\\n",
       "116               0           1      False       True      False   \n",
       "847               0           1      False       True      False   \n",
       "1047              1           1      False       True      False   \n",
       "1317              0           1      False       True      False   \n",
       "\n",
       "      charges_log_z     bmi_z  \n",
       "116        0.262266  3.017861  \n",
       "847       -1.413975  3.234400  \n",
       "1047       1.745699  3.595298  \n",
       "1317      -2.218820  3.685522  "
      ]
     },
     "execution_count": 27,
     "metadata": {},
     "output_type": "execute_result"
    }
   ],
   "source": [
    "df[df['bmi_z'].abs() >= 3]"
   ]
  },
  {
   "cell_type": "code",
   "execution_count": 28,
   "id": "03a40549",
   "metadata": {},
   "outputs": [],
   "source": [
    "# handling BMI outliers by clipping at 99th quartile\n",
    "upper_limit = df['bmi'].quantile(0.99)\n",
    "df['bmi_clipped'] = df['bmi'].clip(upper=upper_limit)"
   ]
  },
  {
   "cell_type": "markdown",
   "id": "8abcc6b0",
   "metadata": {},
   "source": [
    "### Observations\n",
    "* No outliers detected in `charges_log`.\n",
    "* `bmi` has 4 outliers out of 1338 rows → ~0.3% of the data. Very small proportion.\n",
    "* Clipped the values at 99th quartile for `bmi`."
   ]
  },
  {
   "cell_type": "markdown",
   "id": "0b9c0b82",
   "metadata": {},
   "source": [
    "## Normalize Data"
   ]
  },
  {
   "cell_type": "code",
   "execution_count": 29,
   "id": "f8ff7d9c",
   "metadata": {},
   "outputs": [],
   "source": [
    "# Scaling Age & BMI\n",
    "scaler = StandardScaler()\n",
    "df['age_scaled'] = scaler.fit_transform(df[['age']])\n",
    "df['bmi_scaled'] = scaler.fit_transform(df[['bmi_clipped']])"
   ]
  },
  {
   "cell_type": "markdown",
   "id": "3b8973a8",
   "metadata": {},
   "source": [
    "## Split Data"
   ]
  },
  {
   "cell_type": "code",
   "execution_count": 30,
   "id": "5fd8dee2",
   "metadata": {},
   "outputs": [
    {
     "data": {
      "text/plain": [
       "Index(['age', 'sex', 'bmi', 'children', 'smoker', 'region', 'charges',\n",
       "       'charges_log', 'smoker_binary', 'sex_binary', 'northwest', 'southeast',\n",
       "       'southwest', 'charges_log_z', 'bmi_z', 'bmi_clipped', 'age_scaled',\n",
       "       'bmi_scaled'],\n",
       "      dtype='object')"
      ]
     },
     "execution_count": 30,
     "metadata": {},
     "output_type": "execute_result"
    }
   ],
   "source": [
    "df.columns"
   ]
  },
  {
   "cell_type": "code",
   "execution_count": 31,
   "id": "01d270b3",
   "metadata": {},
   "outputs": [
    {
     "data": {
      "text/plain": [
       "((936, 8), (936,), (201, 8), (201,), (201, 8), (201,))"
      ]
     },
     "execution_count": 31,
     "metadata": {},
     "output_type": "execute_result"
    }
   ],
   "source": [
    "x = df[['age_scaled',\n",
    "        'bmi_scaled',\n",
    "        'smoker_binary',\n",
    "        'sex_binary',\n",
    "        'northwest',\n",
    "        'southeast',\n",
    "        'southwest',\n",
    "        'children']]\n",
    "y = df['charges_log']\n",
    "\n",
    "# Train (70) - Hold-out / Validation (15) - Test (15)\n",
    "x_train, x_test_val, y_train, y_test_val = train_test_split(x, y, train_size=0.7, random_state=1, stratify=None)\n",
    "x_val, x_test, y_val, y_test = train_test_split(x_test_val, y_test_val, test_size=0.5, random_state=1, stratify=None)\n",
    "\n",
    "x_train.shape, y_train.shape, x_val.shape, y_val.shape, x_test.shape, y_test.shape"
   ]
  },
  {
   "cell_type": "markdown",
   "id": "b34f5a35",
   "metadata": {},
   "source": [
    "# Modeling"
   ]
  },
  {
   "cell_type": "markdown",
   "id": "f615e5c7",
   "metadata": {},
   "source": [
    "## Model Selection"
   ]
  },
  {
   "cell_type": "markdown",
   "id": "d586fe45",
   "metadata": {},
   "source": [
    "### Baseline Model"
   ]
  },
  {
   "cell_type": "code",
   "execution_count": 32,
   "id": "ed8a16af",
   "metadata": {},
   "outputs": [
    {
     "name": "stdout",
     "output_type": "stream",
     "text": [
      "Baseline Model: R² = 0.443, RMSE = 0.686\n"
     ]
    }
   ],
   "source": [
    "# Added mean of target based on smoker as predicted values for baseline model\n",
    "df['y_pred'] = df.groupby('smoker_binary')['charges_log'].transform('mean')\n",
    "baseline_r2 = round(r2_score(y, df['y_pred']),3)\n",
    "baseline_rmse = round(np.sqrt(mean_squared_error(y, df['y_pred'])),3)\n",
    "print(f'Baseline Model: R² = {baseline_r2}, RMSE = {baseline_rmse}')"
   ]
  },
  {
   "cell_type": "markdown",
   "id": "dca0a5d3",
   "metadata": {},
   "source": [
    "### Linear Regression"
   ]
  },
  {
   "cell_type": "code",
   "execution_count": 33,
   "id": "24ddde02",
   "metadata": {},
   "outputs": [
    {
     "name": "stdout",
     "output_type": "stream",
     "text": [
      "Linear Regression: R² = 0.793, RMSE = 0.42\n"
     ]
    }
   ],
   "source": [
    "model = LinearRegression()\n",
    "\n",
    "# Training Fit the model\n",
    "model.fit(x_train, y_train)\n",
    "\n",
    "# Prediction on hold-out\n",
    "y_pred = model.predict(x_val)\n",
    "\n",
    "# Model Evaluation\n",
    "linear_r2 = round(r2_score(y_val, y_pred),3)\n",
    "linear_rmse = round(np.sqrt(mean_squared_error(y_val, y_pred)),3)\n",
    "print(f'Linear Regression: R² = {linear_r2}, RMSE = {linear_rmse}')"
   ]
  },
  {
   "cell_type": "markdown",
   "id": "31b09820",
   "metadata": {},
   "source": [
    "### Lasso Regression"
   ]
  },
  {
   "cell_type": "code",
   "execution_count": 34,
   "id": "972dd0ee",
   "metadata": {},
   "outputs": [
    {
     "name": "stdout",
     "output_type": "stream",
     "text": [
      "Lasso Regression: R² = -0.0, RMSE = 0.924\n"
     ]
    }
   ],
   "source": [
    "model = Lasso()\n",
    "\n",
    "# Training Fit the model\n",
    "model.fit(x_train, y_train)\n",
    "\n",
    "# Prediction on hold-out\n",
    "y_pred = model.predict(x_val)\n",
    "\n",
    "# Model Evaluation\n",
    "lasso_r2 = round(r2_score(y_val, y_pred),3)\n",
    "lasso_rmse = round(np.sqrt(mean_squared_error(y_val, y_pred)),3)\n",
    "print(f'Lasso Regression: R² = {lasso_r2}, RMSE = {lasso_rmse}')"
   ]
  },
  {
   "cell_type": "markdown",
   "id": "5f35739d",
   "metadata": {},
   "source": [
    "### Ridge Regression"
   ]
  },
  {
   "cell_type": "code",
   "execution_count": 35,
   "id": "e1815513",
   "metadata": {},
   "outputs": [
    {
     "name": "stdout",
     "output_type": "stream",
     "text": [
      "Ridge Regression: R² = 0.793, RMSE = 0.42\n"
     ]
    }
   ],
   "source": [
    "model = Ridge()\n",
    "\n",
    "# Training Fit the model\n",
    "model.fit(x_train, y_train)\n",
    "\n",
    "# Prediction on hold-out\n",
    "y_pred = model.predict(x_val)\n",
    "\n",
    "# Model Evaluation\n",
    "ridge_r2 = round(r2_score(y_val, y_pred),3)\n",
    "ridge_rmse = round(np.sqrt(mean_squared_error(y_val, y_pred)),3)\n",
    "print(f'Ridge Regression: R² = {ridge_r2}, RMSE = {ridge_rmse}')"
   ]
  },
  {
   "cell_type": "markdown",
   "id": "46a5166a",
   "metadata": {},
   "source": [
    "### Poisson Regression"
   ]
  },
  {
   "cell_type": "code",
   "execution_count": 36,
   "id": "e2a17f50",
   "metadata": {},
   "outputs": [
    {
     "name": "stdout",
     "output_type": "stream",
     "text": [
      "Poisson Regression: R² = 0.682, RMSE = 0.521\n"
     ]
    }
   ],
   "source": [
    "model = PoissonRegressor()\n",
    "\n",
    "# Training Fit the model\n",
    "model.fit(x_train, y_train)\n",
    "\n",
    "# Prediction on hold-out\n",
    "y_pred = model.predict(x_val)\n",
    "\n",
    "# Model Evaluation\n",
    "poisson_r2 = round(r2_score(y_val, y_pred),3)\n",
    "poisson_rmse = round(np.sqrt(mean_squared_error(y_val, y_pred)),3)\n",
    "print(f'Poisson Regression: R² = {poisson_r2}, RMSE = {poisson_rmse}')"
   ]
  },
  {
   "cell_type": "markdown",
   "id": "0e636c40",
   "metadata": {},
   "source": [
    "### Decision Tree"
   ]
  },
  {
   "cell_type": "code",
   "execution_count": 37,
   "id": "66638f63",
   "metadata": {},
   "outputs": [
    {
     "name": "stdout",
     "output_type": "stream",
     "text": [
      "Decision Tree Regression: R² = 0.598, RMSE = 0.586\n"
     ]
    }
   ],
   "source": [
    "model = DecisionTreeRegressor(random_state=1)\n",
    "\n",
    "# Training Fit the model\n",
    "model.fit(x_train, y_train)\n",
    "\n",
    "# Prediction on hold-out\n",
    "y_pred = model.predict(x_val)\n",
    "\n",
    "# Model Evaluation\n",
    "dt_r2 = round(r2_score(y_val, y_pred),3)\n",
    "dt_rmse = round(np.sqrt(mean_squared_error(y_val, y_pred)),3)\n",
    "print(f'Decision Tree Regression: R² = {dt_r2}, RMSE = {dt_rmse}')"
   ]
  },
  {
   "cell_type": "markdown",
   "id": "1b990dcd",
   "metadata": {},
   "source": [
    "### KNN Regression"
   ]
  },
  {
   "cell_type": "code",
   "execution_count": 38,
   "id": "377a7c4a",
   "metadata": {},
   "outputs": [
    {
     "name": "stdout",
     "output_type": "stream",
     "text": [
      "K Neighbors Regression: R² = 0.758, RMSE = 0.454\n"
     ]
    }
   ],
   "source": [
    "model = KNeighborsRegressor()\n",
    "\n",
    "# Training Fit the model\n",
    "model.fit(x_train, y_train)\n",
    "\n",
    "# Prediction on hold-out\n",
    "y_pred = model.predict(x_val)\n",
    "\n",
    "# Model Evaluation\n",
    "knn_r2 = round(r2_score(y_val, y_pred),3)\n",
    "knn_rmse = round(np.sqrt(mean_squared_error(y_val, y_pred)),3)\n",
    "print(f'K Neighbors Regression: R² = {knn_r2}, RMSE = {knn_rmse}')"
   ]
  },
  {
   "cell_type": "markdown",
   "id": "f7e5e1d9",
   "metadata": {},
   "source": [
    "### Support Vector Regression"
   ]
  },
  {
   "cell_type": "code",
   "execution_count": 39,
   "id": "78e217a2",
   "metadata": {},
   "outputs": [
    {
     "name": "stdout",
     "output_type": "stream",
     "text": [
      "Support Vector Regression: R² = 0.874, RMSE = 0.327\n"
     ]
    }
   ],
   "source": [
    "model = SVR()\n",
    "\n",
    "# Training Fit the model\n",
    "model.fit(x_train, y_train)\n",
    "\n",
    "# Prediction on hold-out\n",
    "y_pred = model.predict(x_val)\n",
    "\n",
    "# Model Evaluation\n",
    "svr_r2 = round(r2_score(y_val, y_pred),3)\n",
    "svr_rmse = round(np.sqrt(mean_squared_error(y_val, y_pred)),3)\n",
    "print(f'Support Vector Regression: R² = {svr_r2}, RMSE = {svr_rmse}')"
   ]
  },
  {
   "cell_type": "markdown",
   "id": "88f03ab8",
   "metadata": {},
   "source": [
    "### Random Forest"
   ]
  },
  {
   "cell_type": "code",
   "execution_count": 40,
   "id": "30307051",
   "metadata": {},
   "outputs": [
    {
     "name": "stdout",
     "output_type": "stream",
     "text": [
      "Random Forest Regression: R² = 0.805, RMSE = 0.408\n"
     ]
    }
   ],
   "source": [
    "model = RandomForestRegressor(random_state=1)\n",
    "\n",
    "# Training Fit the model\n",
    "model.fit(x_train, y_train)\n",
    "\n",
    "# Prediction on hold-out\n",
    "y_pred = model.predict(x_val)\n",
    "\n",
    "# Model Evaluation\n",
    "rf_r2 = round(r2_score(y_val, y_pred),3)\n",
    "rf_rmse = round(np.sqrt(mean_squared_error(y_val, y_pred)),3)\n",
    "print(f'Random Forest Regression: R² = {rf_r2}, RMSE = {rf_rmse}')"
   ]
  },
  {
   "cell_type": "markdown",
   "id": "28848eb8",
   "metadata": {},
   "source": [
    "### Gradient Boosting"
   ]
  },
  {
   "cell_type": "code",
   "execution_count": 41,
   "id": "ecab36e1",
   "metadata": {},
   "outputs": [
    {
     "name": "stdout",
     "output_type": "stream",
     "text": [
      "Gradient Boosting Regression: R² = 0.864, RMSE = 0.34\n"
     ]
    }
   ],
   "source": [
    "model = GradientBoostingRegressor(random_state=1)\n",
    "\n",
    "# Training Fit the model\n",
    "model.fit(x_train, y_train)\n",
    "\n",
    "# Prediction on hold-out\n",
    "y_pred = model.predict(x_val)\n",
    "\n",
    "# Model Evaluation\n",
    "gb_r2 = round(r2_score(y_val, y_pred),3)\n",
    "gb_rmse = round(np.sqrt(mean_squared_error(y_val, y_pred)),3)\n",
    "print(f'Gradient Boosting Regression: R² = {gb_r2}, RMSE = {gb_rmse}')"
   ]
  },
  {
   "cell_type": "markdown",
   "id": "09703329",
   "metadata": {},
   "source": [
    "### Observations\n",
    "\n",
    "| Model | R²    | RMSE  |\n",
    "| ----- | ----- | ----- |\n",
    "| Support Vector Regression   | 0.874 | 0.327 |\n",
    "| Gradient Boosting Regression   | 0.864 | 0.340 |\n",
    "| Random Forest Regression   | 0.805 | 0.408 |\n",
    "\n",
    "\n",
    "* Support Vector Regression has the highest R² and lowest RMSE → very strong predictive performance.\n",
    "* Gradient Boosting Regression is close behind SVR and often more interpretable and robust for tabular data.\n",
    "* Random Forest Regression is slightly worse than GBR but still strong; tends to be more stable and less sensitive to hyperparameters."
   ]
  },
  {
   "cell_type": "markdown",
   "id": "0153392e",
   "metadata": {},
   "source": [
    "## Hyperparameter Tuning"
   ]
  },
  {
   "cell_type": "code",
   "execution_count": 42,
   "id": "d022e52b",
   "metadata": {},
   "outputs": [],
   "source": [
    "# Support Vector Regression\n",
    "svr = SVR()\n",
    "svr_param_grid = {\n",
    "    'kernel': ['rbf', 'linear', 'poly'],\n",
    "    'C': [0.1, 1, 10],\n",
    "    'gamma': ['scale', 'auto'],\n",
    "    'epsilon': [0.01, 0.1, 0.5]}\n",
    "\n",
    "# Random Forest\n",
    "rf = RandomForestRegressor(random_state=1)\n",
    "rf_param_grid = {\n",
    "    'n_estimators': [100, 300, 500],\n",
    "    'max_depth': [None, 5, 10, 20],\n",
    "    'min_samples_split': [2, 5, 10],\n",
    "    'min_samples_leaf': [1, 2, 4],\n",
    "    'max_features': ['sqrt', 'log2']}\n",
    "\n",
    "# Gradient Boosting\n",
    "gb = GradientBoostingRegressor(random_state=1)\n",
    "gb_param_grid = {\n",
    "    'n_estimators': [100, 300, 500],\n",
    "    'learning_rate': [0.01, 0.05, 0.1],\n",
    "    'max_depth': [3, 5, 7],\n",
    "    'min_samples_split': [2, 5, 10],\n",
    "    'min_samples_leaf': [1, 2, 4],\n",
    "    'subsample': [0.8, 1.0],\n",
    "    'max_features': ['sqrt', 'log2']}"
   ]
  },
  {
   "cell_type": "code",
   "execution_count": 43,
   "id": "09f7acba",
   "metadata": {},
   "outputs": [
    {
     "name": "stdout",
     "output_type": "stream",
     "text": [
      "SVR Best R² = 0.8163380817666314\n",
      "RF Best R² = 0.8078751775942983\n",
      "GB Best R² = 0.8173579393251351\n",
      "SVR Best Parameters = {'C': 10, 'epsilon': 0.1, 'gamma': 'auto', 'kernel': 'rbf'}\n",
      "RF Best Parameters = {'max_depth': 10, 'max_features': 'log2', 'min_samples_leaf': 2, 'min_samples_split': 10, 'n_estimators': 500}\n",
      "GB Best Parameters = {'learning_rate': 0.1, 'max_depth': 3, 'max_features': 'log2', 'min_samples_leaf': 4, 'min_samples_split': 2, 'n_estimators': 100, 'subsample': 1.0}\n"
     ]
    }
   ],
   "source": [
    "svr_grid = GridSearchCV(svr, param_grid=svr_param_grid, cv=5, scoring='r2', n_jobs=-1)\n",
    "rf_grid = GridSearchCV(rf, param_grid=rf_param_grid, cv=5, scoring='r2', n_jobs=-1)\n",
    "gb_grid = GridSearchCV(gb, param_grid=gb_param_grid, cv=5, scoring='r2', n_jobs=-1)\n",
    "\n",
    "# Training models\n",
    "svr_grid.fit(x_train, y_train)\n",
    "rf_grid.fit(x_train, y_train)\n",
    "gb_grid.fit(x_train, y_train)\n",
    "\n",
    "# Best scores\n",
    "print(f'SVR Best R² = {svr_grid.best_score_}')\n",
    "print(f'RF Best R² = {rf_grid.best_score_}')\n",
    "print(f'GB Best R² = {gb_grid.best_score_}')\n",
    "\n",
    "# Best Parameters\n",
    "print(f'SVR Best Parameters = {svr_grid.best_params_}')\n",
    "print(f'RF Best Parameters = {rf_grid.best_params_}')\n",
    "print(f'GB Best Parameters = {gb_grid.best_params_}')"
   ]
  },
  {
   "cell_type": "code",
   "execution_count": 44,
   "id": "aca90982",
   "metadata": {},
   "outputs": [
    {
     "name": "stdout",
     "output_type": "stream",
     "text": [
      "SVR Best: R² = 0.879, RMSE = 0.322\n",
      "RF Best: R² = 0.861, RMSE = 0.344\n",
      "GB Best: R² = 0.868, RMSE = 0.335\n"
     ]
    }
   ],
   "source": [
    "# Testing on hold-out set\n",
    "svr_best = svr_grid.best_estimator_\n",
    "y_pred = svr_best.predict(x_val)\n",
    "print(f'SVR Best: R² = {round(r2_score(y_val, y_pred),3)}, RMSE = {round(np.sqrt(mean_squared_error(y_val, y_pred)),3)}')\n",
    "\n",
    "rf_best = rf_grid.best_estimator_\n",
    "y_pred = rf_best.predict(x_val)\n",
    "print(f'RF Best: R² = {round(r2_score(y_val, y_pred),3)}, RMSE = {round(np.sqrt(mean_squared_error(y_val, y_pred)),3)}')\n",
    "\n",
    "gb_best = gb_grid.best_estimator_\n",
    "y_pred = gb_best.predict(x_val)\n",
    "print(f'GB Best: R² = {round(r2_score(y_val, y_pred),3)}, RMSE = {round(np.sqrt(mean_squared_error(y_val, y_pred)),3)}')"
   ]
  },
  {
   "cell_type": "markdown",
   "id": "8805aba7",
   "metadata": {},
   "source": [
    "## Cross Validation"
   ]
  },
  {
   "cell_type": "code",
   "execution_count": 45,
   "id": "e02fc4c9",
   "metadata": {},
   "outputs": [
    {
     "name": "stdout",
     "output_type": "stream",
     "text": [
      "SVR CV: Mean = 0.815, Variance = 0.168\n",
      "RF CV: Mean = 0.809, Variance = 0.126\n",
      "GB CV: Mean = 0.818, Variance = 0.137\n"
     ]
    }
   ],
   "source": [
    "svr_cv = cross_val_score(svr_best, x_train, y_train, cv=10)\n",
    "rf_cv = cross_val_score(rf_best, x_train, y_train, cv=10)\n",
    "gb_cv = cross_val_score(gb_best, x_train, y_train, cv=10)\n",
    "\n",
    "print(f'SVR CV: Mean = {svr_cv.mean().round(3)}, Variance = {round(svr_cv.std() * 2, 3)}')\n",
    "print(f'RF CV: Mean = {rf_cv.mean().round(3)}, Variance = {round(rf_cv.std() * 2, 3)}')\n",
    "print(f'GB CV: Mean = {gb_cv.mean().round(3)}, Variance = {round(gb_cv.std() * 2, 3)}')"
   ]
  },
  {
   "cell_type": "markdown",
   "id": "35614408",
   "metadata": {},
   "source": [
    "## Observations\n",
    "\n",
    "Three candidate models — Support Vector Regression (SVR), Random Forest Regression (RF), and Gradient Boosting Regression (GB) — were tuned and compared using hold-out testing and 10-fold cross-validation.\n",
    "* On the hold-out set, SVR achieved the highest R² (0.879), slightly outperforming GB (0.868) and RF (0.861).\n",
    "* On cross-validation, GB showed the best balance between mean R² (0.818) and variance (0.137), whereas SVR, despite strong hold-out performance, exhibited higher variance (0.168), indicating less stable generalization.\n",
    "\n",
    "**Conclusion**: For this dataset, SVR demonstrates the strongest predictive power, but Gradient Boosting is more consistent and industry-preferred due to its stability and interpretability. Going ahead with GB for this project."
   ]
  },
  {
   "cell_type": "markdown",
   "id": "934559e1",
   "metadata": {},
   "source": [
    "# Evaluation"
   ]
  },
  {
   "cell_type": "markdown",
   "id": "a0c382ec",
   "metadata": {},
   "source": [
    "## Feature Importance"
   ]
  },
  {
   "cell_type": "code",
   "execution_count": 46,
   "id": "81966a71",
   "metadata": {},
   "outputs": [
    {
     "name": "stdout",
     "output_type": "stream",
     "text": [
      "        Features      Mean       Std\n",
      "0  smoker_binary  1.127726  0.119807\n",
      "1     age_scaled  0.645006  0.066845\n",
      "2       children  0.073604  0.014599\n",
      "3     bmi_scaled  0.052277  0.009535\n",
      "4      southwest  0.004472  0.001349\n",
      "5      southeast  0.003106  0.004886\n",
      "6     sex_binary  0.000029  0.002796\n",
      "7      northwest -0.001181  0.000334\n"
     ]
    }
   ],
   "source": [
    "# checking feature importance using PFI on hold-out set\n",
    "pfi = permutation_importance(gb_best, x_val, y_val, n_repeats=10, random_state=1, scoring='r2')\n",
    "\n",
    "pfi_df = pd.DataFrame({\n",
    "    'Features' : x_val.columns,\n",
    "    'Mean' : pfi.importances_mean,\n",
    "    'Std' : pfi.importances_std}).sort_values(by='Mean', ascending=False).reset_index(drop=True)\n",
    "\n",
    "print(pfi_df)"
   ]
  },
  {
   "cell_type": "markdown",
   "id": "f2715716",
   "metadata": {},
   "source": [
    "### Observations\n",
    "* `Smoker` is the strongest predictor, followed by `age`.\n",
    "* `Children` and `BMI` add minor value.\n",
    "* `Region` and `sex` have negligible or no impact."
   ]
  },
  {
   "cell_type": "markdown",
   "id": "e01bf425",
   "metadata": {},
   "source": [
    "## Final Model Testing"
   ]
  },
  {
   "cell_type": "code",
   "execution_count": 47,
   "id": "b7dab0cf",
   "metadata": {},
   "outputs": [
    {
     "name": "stdout",
     "output_type": "stream",
     "text": [
      "Final Testing (GBR): R² = 0.869, RMSE = 0.329\n"
     ]
    }
   ],
   "source": [
    "# combine training and hold-out sets for final training\n",
    "x_train_final = pd.concat([x_train, x_val], axis=0)\n",
    "y_train_final = pd.concat([y_train, y_val], axis=0)\n",
    "\n",
    "# Final training\n",
    "gb_best.fit(x_train_final, y_train_final)\n",
    "\n",
    "# Final testing\n",
    "y_pred = gb_best.predict(x_test)\n",
    "\n",
    "print(f'Final Testing (GBR): R² = {round(r2_score(y_test, y_pred),3)}, RMSE = {round(np.sqrt(mean_squared_error(y_test, y_pred)),3)}')"
   ]
  },
  {
   "cell_type": "markdown",
   "id": "5ecdb025",
   "metadata": {},
   "source": [
    "# Deployment"
   ]
  },
  {
   "cell_type": "markdown",
   "id": "48968862",
   "metadata": {},
   "source": [
    "## Setting up the Pipeline"
   ]
  },
  {
   "cell_type": "code",
   "execution_count": 48,
   "id": "f403d17d",
   "metadata": {},
   "outputs": [],
   "source": [
    "# creating feature groups\n",
    "num_variables = ['age', 'bmi']\n",
    "bin_variables = ['sex', 'smoker']\n",
    "cat_variables = ['region']\n",
    "pass_variables = ['children']\n",
    "\n",
    "# creating function for BMI clipping\n",
    "def clip_bmi(x):\n",
    "    return x.clip(upper=upper_limit)\n",
    "\n",
    "# setting up the preprocessor\n",
    "preprocessor = ColumnTransformer(\n",
    "    transformers=[\n",
    "        ('clip_bmi', FunctionTransformer(clip_bmi), ['bmi']),\n",
    "        ('num', StandardScaler(), num_variables),\n",
    "        ('bin', OrdinalEncoder(categories=[['female', 'male'], ['no', 'yes']]), bin_variables),\n",
    "        ('cat', OneHotEncoder(drop='first', handle_unknown='ignore'), cat_variables),\n",
    "        ('pass', 'passthrough', pass_variables)])"
   ]
  },
  {
   "cell_type": "code",
   "execution_count": 49,
   "id": "0586686d",
   "metadata": {},
   "outputs": [
    {
     "data": {
      "text/html": [
       "<style>#sk-container-id-1 {\n",
       "  /* Definition of color scheme common for light and dark mode */\n",
       "  --sklearn-color-text: #000;\n",
       "  --sklearn-color-text-muted: #666;\n",
       "  --sklearn-color-line: gray;\n",
       "  /* Definition of color scheme for unfitted estimators */\n",
       "  --sklearn-color-unfitted-level-0: #fff5e6;\n",
       "  --sklearn-color-unfitted-level-1: #f6e4d2;\n",
       "  --sklearn-color-unfitted-level-2: #ffe0b3;\n",
       "  --sklearn-color-unfitted-level-3: chocolate;\n",
       "  /* Definition of color scheme for fitted estimators */\n",
       "  --sklearn-color-fitted-level-0: #f0f8ff;\n",
       "  --sklearn-color-fitted-level-1: #d4ebff;\n",
       "  --sklearn-color-fitted-level-2: #b3dbfd;\n",
       "  --sklearn-color-fitted-level-3: cornflowerblue;\n",
       "\n",
       "  /* Specific color for light theme */\n",
       "  --sklearn-color-text-on-default-background: var(--sg-text-color, var(--theme-code-foreground, var(--jp-content-font-color1, black)));\n",
       "  --sklearn-color-background: var(--sg-background-color, var(--theme-background, var(--jp-layout-color0, white)));\n",
       "  --sklearn-color-border-box: var(--sg-text-color, var(--theme-code-foreground, var(--jp-content-font-color1, black)));\n",
       "  --sklearn-color-icon: #696969;\n",
       "\n",
       "  @media (prefers-color-scheme: dark) {\n",
       "    /* Redefinition of color scheme for dark theme */\n",
       "    --sklearn-color-text-on-default-background: var(--sg-text-color, var(--theme-code-foreground, var(--jp-content-font-color1, white)));\n",
       "    --sklearn-color-background: var(--sg-background-color, var(--theme-background, var(--jp-layout-color0, #111)));\n",
       "    --sklearn-color-border-box: var(--sg-text-color, var(--theme-code-foreground, var(--jp-content-font-color1, white)));\n",
       "    --sklearn-color-icon: #878787;\n",
       "  }\n",
       "}\n",
       "\n",
       "#sk-container-id-1 {\n",
       "  color: var(--sklearn-color-text);\n",
       "}\n",
       "\n",
       "#sk-container-id-1 pre {\n",
       "  padding: 0;\n",
       "}\n",
       "\n",
       "#sk-container-id-1 input.sk-hidden--visually {\n",
       "  border: 0;\n",
       "  clip: rect(1px 1px 1px 1px);\n",
       "  clip: rect(1px, 1px, 1px, 1px);\n",
       "  height: 1px;\n",
       "  margin: -1px;\n",
       "  overflow: hidden;\n",
       "  padding: 0;\n",
       "  position: absolute;\n",
       "  width: 1px;\n",
       "}\n",
       "\n",
       "#sk-container-id-1 div.sk-dashed-wrapped {\n",
       "  border: 1px dashed var(--sklearn-color-line);\n",
       "  margin: 0 0.4em 0.5em 0.4em;\n",
       "  box-sizing: border-box;\n",
       "  padding-bottom: 0.4em;\n",
       "  background-color: var(--sklearn-color-background);\n",
       "}\n",
       "\n",
       "#sk-container-id-1 div.sk-container {\n",
       "  /* jupyter's `normalize.less` sets `[hidden] { display: none; }`\n",
       "     but bootstrap.min.css set `[hidden] { display: none !important; }`\n",
       "     so we also need the `!important` here to be able to override the\n",
       "     default hidden behavior on the sphinx rendered scikit-learn.org.\n",
       "     See: https://github.com/scikit-learn/scikit-learn/issues/21755 */\n",
       "  display: inline-block !important;\n",
       "  position: relative;\n",
       "}\n",
       "\n",
       "#sk-container-id-1 div.sk-text-repr-fallback {\n",
       "  display: none;\n",
       "}\n",
       "\n",
       "div.sk-parallel-item,\n",
       "div.sk-serial,\n",
       "div.sk-item {\n",
       "  /* draw centered vertical line to link estimators */\n",
       "  background-image: linear-gradient(var(--sklearn-color-text-on-default-background), var(--sklearn-color-text-on-default-background));\n",
       "  background-size: 2px 100%;\n",
       "  background-repeat: no-repeat;\n",
       "  background-position: center center;\n",
       "}\n",
       "\n",
       "/* Parallel-specific style estimator block */\n",
       "\n",
       "#sk-container-id-1 div.sk-parallel-item::after {\n",
       "  content: \"\";\n",
       "  width: 100%;\n",
       "  border-bottom: 2px solid var(--sklearn-color-text-on-default-background);\n",
       "  flex-grow: 1;\n",
       "}\n",
       "\n",
       "#sk-container-id-1 div.sk-parallel {\n",
       "  display: flex;\n",
       "  align-items: stretch;\n",
       "  justify-content: center;\n",
       "  background-color: var(--sklearn-color-background);\n",
       "  position: relative;\n",
       "}\n",
       "\n",
       "#sk-container-id-1 div.sk-parallel-item {\n",
       "  display: flex;\n",
       "  flex-direction: column;\n",
       "}\n",
       "\n",
       "#sk-container-id-1 div.sk-parallel-item:first-child::after {\n",
       "  align-self: flex-end;\n",
       "  width: 50%;\n",
       "}\n",
       "\n",
       "#sk-container-id-1 div.sk-parallel-item:last-child::after {\n",
       "  align-self: flex-start;\n",
       "  width: 50%;\n",
       "}\n",
       "\n",
       "#sk-container-id-1 div.sk-parallel-item:only-child::after {\n",
       "  width: 0;\n",
       "}\n",
       "\n",
       "/* Serial-specific style estimator block */\n",
       "\n",
       "#sk-container-id-1 div.sk-serial {\n",
       "  display: flex;\n",
       "  flex-direction: column;\n",
       "  align-items: center;\n",
       "  background-color: var(--sklearn-color-background);\n",
       "  padding-right: 1em;\n",
       "  padding-left: 1em;\n",
       "}\n",
       "\n",
       "\n",
       "/* Toggleable style: style used for estimator/Pipeline/ColumnTransformer box that is\n",
       "clickable and can be expanded/collapsed.\n",
       "- Pipeline and ColumnTransformer use this feature and define the default style\n",
       "- Estimators will overwrite some part of the style using the `sk-estimator` class\n",
       "*/\n",
       "\n",
       "/* Pipeline and ColumnTransformer style (default) */\n",
       "\n",
       "#sk-container-id-1 div.sk-toggleable {\n",
       "  /* Default theme specific background. It is overwritten whether we have a\n",
       "  specific estimator or a Pipeline/ColumnTransformer */\n",
       "  background-color: var(--sklearn-color-background);\n",
       "}\n",
       "\n",
       "/* Toggleable label */\n",
       "#sk-container-id-1 label.sk-toggleable__label {\n",
       "  cursor: pointer;\n",
       "  display: flex;\n",
       "  width: 100%;\n",
       "  margin-bottom: 0;\n",
       "  padding: 0.5em;\n",
       "  box-sizing: border-box;\n",
       "  text-align: center;\n",
       "  align-items: start;\n",
       "  justify-content: space-between;\n",
       "  gap: 0.5em;\n",
       "}\n",
       "\n",
       "#sk-container-id-1 label.sk-toggleable__label .caption {\n",
       "  font-size: 0.6rem;\n",
       "  font-weight: lighter;\n",
       "  color: var(--sklearn-color-text-muted);\n",
       "}\n",
       "\n",
       "#sk-container-id-1 label.sk-toggleable__label-arrow:before {\n",
       "  /* Arrow on the left of the label */\n",
       "  content: \"▸\";\n",
       "  float: left;\n",
       "  margin-right: 0.25em;\n",
       "  color: var(--sklearn-color-icon);\n",
       "}\n",
       "\n",
       "#sk-container-id-1 label.sk-toggleable__label-arrow:hover:before {\n",
       "  color: var(--sklearn-color-text);\n",
       "}\n",
       "\n",
       "/* Toggleable content - dropdown */\n",
       "\n",
       "#sk-container-id-1 div.sk-toggleable__content {\n",
       "  display: none;\n",
       "  text-align: left;\n",
       "  /* unfitted */\n",
       "  background-color: var(--sklearn-color-unfitted-level-0);\n",
       "}\n",
       "\n",
       "#sk-container-id-1 div.sk-toggleable__content.fitted {\n",
       "  /* fitted */\n",
       "  background-color: var(--sklearn-color-fitted-level-0);\n",
       "}\n",
       "\n",
       "#sk-container-id-1 div.sk-toggleable__content pre {\n",
       "  margin: 0.2em;\n",
       "  border-radius: 0.25em;\n",
       "  color: var(--sklearn-color-text);\n",
       "  /* unfitted */\n",
       "  background-color: var(--sklearn-color-unfitted-level-0);\n",
       "}\n",
       "\n",
       "#sk-container-id-1 div.sk-toggleable__content.fitted pre {\n",
       "  /* unfitted */\n",
       "  background-color: var(--sklearn-color-fitted-level-0);\n",
       "}\n",
       "\n",
       "#sk-container-id-1 input.sk-toggleable__control:checked~div.sk-toggleable__content {\n",
       "  /* Expand drop-down */\n",
       "  display: block;\n",
       "  width: 100%;\n",
       "  overflow: visible;\n",
       "}\n",
       "\n",
       "#sk-container-id-1 input.sk-toggleable__control:checked~label.sk-toggleable__label-arrow:before {\n",
       "  content: \"▾\";\n",
       "}\n",
       "\n",
       "/* Pipeline/ColumnTransformer-specific style */\n",
       "\n",
       "#sk-container-id-1 div.sk-label input.sk-toggleable__control:checked~label.sk-toggleable__label {\n",
       "  color: var(--sklearn-color-text);\n",
       "  background-color: var(--sklearn-color-unfitted-level-2);\n",
       "}\n",
       "\n",
       "#sk-container-id-1 div.sk-label.fitted input.sk-toggleable__control:checked~label.sk-toggleable__label {\n",
       "  background-color: var(--sklearn-color-fitted-level-2);\n",
       "}\n",
       "\n",
       "/* Estimator-specific style */\n",
       "\n",
       "/* Colorize estimator box */\n",
       "#sk-container-id-1 div.sk-estimator input.sk-toggleable__control:checked~label.sk-toggleable__label {\n",
       "  /* unfitted */\n",
       "  background-color: var(--sklearn-color-unfitted-level-2);\n",
       "}\n",
       "\n",
       "#sk-container-id-1 div.sk-estimator.fitted input.sk-toggleable__control:checked~label.sk-toggleable__label {\n",
       "  /* fitted */\n",
       "  background-color: var(--sklearn-color-fitted-level-2);\n",
       "}\n",
       "\n",
       "#sk-container-id-1 div.sk-label label.sk-toggleable__label,\n",
       "#sk-container-id-1 div.sk-label label {\n",
       "  /* The background is the default theme color */\n",
       "  color: var(--sklearn-color-text-on-default-background);\n",
       "}\n",
       "\n",
       "/* On hover, darken the color of the background */\n",
       "#sk-container-id-1 div.sk-label:hover label.sk-toggleable__label {\n",
       "  color: var(--sklearn-color-text);\n",
       "  background-color: var(--sklearn-color-unfitted-level-2);\n",
       "}\n",
       "\n",
       "/* Label box, darken color on hover, fitted */\n",
       "#sk-container-id-1 div.sk-label.fitted:hover label.sk-toggleable__label.fitted {\n",
       "  color: var(--sklearn-color-text);\n",
       "  background-color: var(--sklearn-color-fitted-level-2);\n",
       "}\n",
       "\n",
       "/* Estimator label */\n",
       "\n",
       "#sk-container-id-1 div.sk-label label {\n",
       "  font-family: monospace;\n",
       "  font-weight: bold;\n",
       "  display: inline-block;\n",
       "  line-height: 1.2em;\n",
       "}\n",
       "\n",
       "#sk-container-id-1 div.sk-label-container {\n",
       "  text-align: center;\n",
       "}\n",
       "\n",
       "/* Estimator-specific */\n",
       "#sk-container-id-1 div.sk-estimator {\n",
       "  font-family: monospace;\n",
       "  border: 1px dotted var(--sklearn-color-border-box);\n",
       "  border-radius: 0.25em;\n",
       "  box-sizing: border-box;\n",
       "  margin-bottom: 0.5em;\n",
       "  /* unfitted */\n",
       "  background-color: var(--sklearn-color-unfitted-level-0);\n",
       "}\n",
       "\n",
       "#sk-container-id-1 div.sk-estimator.fitted {\n",
       "  /* fitted */\n",
       "  background-color: var(--sklearn-color-fitted-level-0);\n",
       "}\n",
       "\n",
       "/* on hover */\n",
       "#sk-container-id-1 div.sk-estimator:hover {\n",
       "  /* unfitted */\n",
       "  background-color: var(--sklearn-color-unfitted-level-2);\n",
       "}\n",
       "\n",
       "#sk-container-id-1 div.sk-estimator.fitted:hover {\n",
       "  /* fitted */\n",
       "  background-color: var(--sklearn-color-fitted-level-2);\n",
       "}\n",
       "\n",
       "/* Specification for estimator info (e.g. \"i\" and \"?\") */\n",
       "\n",
       "/* Common style for \"i\" and \"?\" */\n",
       "\n",
       ".sk-estimator-doc-link,\n",
       "a:link.sk-estimator-doc-link,\n",
       "a:visited.sk-estimator-doc-link {\n",
       "  float: right;\n",
       "  font-size: smaller;\n",
       "  line-height: 1em;\n",
       "  font-family: monospace;\n",
       "  background-color: var(--sklearn-color-background);\n",
       "  border-radius: 1em;\n",
       "  height: 1em;\n",
       "  width: 1em;\n",
       "  text-decoration: none !important;\n",
       "  margin-left: 0.5em;\n",
       "  text-align: center;\n",
       "  /* unfitted */\n",
       "  border: var(--sklearn-color-unfitted-level-1) 1pt solid;\n",
       "  color: var(--sklearn-color-unfitted-level-1);\n",
       "}\n",
       "\n",
       ".sk-estimator-doc-link.fitted,\n",
       "a:link.sk-estimator-doc-link.fitted,\n",
       "a:visited.sk-estimator-doc-link.fitted {\n",
       "  /* fitted */\n",
       "  border: var(--sklearn-color-fitted-level-1) 1pt solid;\n",
       "  color: var(--sklearn-color-fitted-level-1);\n",
       "}\n",
       "\n",
       "/* On hover */\n",
       "div.sk-estimator:hover .sk-estimator-doc-link:hover,\n",
       ".sk-estimator-doc-link:hover,\n",
       "div.sk-label-container:hover .sk-estimator-doc-link:hover,\n",
       ".sk-estimator-doc-link:hover {\n",
       "  /* unfitted */\n",
       "  background-color: var(--sklearn-color-unfitted-level-3);\n",
       "  color: var(--sklearn-color-background);\n",
       "  text-decoration: none;\n",
       "}\n",
       "\n",
       "div.sk-estimator.fitted:hover .sk-estimator-doc-link.fitted:hover,\n",
       ".sk-estimator-doc-link.fitted:hover,\n",
       "div.sk-label-container:hover .sk-estimator-doc-link.fitted:hover,\n",
       ".sk-estimator-doc-link.fitted:hover {\n",
       "  /* fitted */\n",
       "  background-color: var(--sklearn-color-fitted-level-3);\n",
       "  color: var(--sklearn-color-background);\n",
       "  text-decoration: none;\n",
       "}\n",
       "\n",
       "/* Span, style for the box shown on hovering the info icon */\n",
       ".sk-estimator-doc-link span {\n",
       "  display: none;\n",
       "  z-index: 9999;\n",
       "  position: relative;\n",
       "  font-weight: normal;\n",
       "  right: .2ex;\n",
       "  padding: .5ex;\n",
       "  margin: .5ex;\n",
       "  width: min-content;\n",
       "  min-width: 20ex;\n",
       "  max-width: 50ex;\n",
       "  color: var(--sklearn-color-text);\n",
       "  box-shadow: 2pt 2pt 4pt #999;\n",
       "  /* unfitted */\n",
       "  background: var(--sklearn-color-unfitted-level-0);\n",
       "  border: .5pt solid var(--sklearn-color-unfitted-level-3);\n",
       "}\n",
       "\n",
       ".sk-estimator-doc-link.fitted span {\n",
       "  /* fitted */\n",
       "  background: var(--sklearn-color-fitted-level-0);\n",
       "  border: var(--sklearn-color-fitted-level-3);\n",
       "}\n",
       "\n",
       ".sk-estimator-doc-link:hover span {\n",
       "  display: block;\n",
       "}\n",
       "\n",
       "/* \"?\"-specific style due to the `<a>` HTML tag */\n",
       "\n",
       "#sk-container-id-1 a.estimator_doc_link {\n",
       "  float: right;\n",
       "  font-size: 1rem;\n",
       "  line-height: 1em;\n",
       "  font-family: monospace;\n",
       "  background-color: var(--sklearn-color-background);\n",
       "  border-radius: 1rem;\n",
       "  height: 1rem;\n",
       "  width: 1rem;\n",
       "  text-decoration: none;\n",
       "  /* unfitted */\n",
       "  color: var(--sklearn-color-unfitted-level-1);\n",
       "  border: var(--sklearn-color-unfitted-level-1) 1pt solid;\n",
       "}\n",
       "\n",
       "#sk-container-id-1 a.estimator_doc_link.fitted {\n",
       "  /* fitted */\n",
       "  border: var(--sklearn-color-fitted-level-1) 1pt solid;\n",
       "  color: var(--sklearn-color-fitted-level-1);\n",
       "}\n",
       "\n",
       "/* On hover */\n",
       "#sk-container-id-1 a.estimator_doc_link:hover {\n",
       "  /* unfitted */\n",
       "  background-color: var(--sklearn-color-unfitted-level-3);\n",
       "  color: var(--sklearn-color-background);\n",
       "  text-decoration: none;\n",
       "}\n",
       "\n",
       "#sk-container-id-1 a.estimator_doc_link.fitted:hover {\n",
       "  /* fitted */\n",
       "  background-color: var(--sklearn-color-fitted-level-3);\n",
       "}\n",
       "\n",
       ".estimator-table summary {\n",
       "    padding: .5rem;\n",
       "    font-family: monospace;\n",
       "    cursor: pointer;\n",
       "}\n",
       "\n",
       ".estimator-table details[open] {\n",
       "    padding-left: 0.1rem;\n",
       "    padding-right: 0.1rem;\n",
       "    padding-bottom: 0.3rem;\n",
       "}\n",
       "\n",
       ".estimator-table .parameters-table {\n",
       "    margin-left: auto !important;\n",
       "    margin-right: auto !important;\n",
       "}\n",
       "\n",
       ".estimator-table .parameters-table tr:nth-child(odd) {\n",
       "    background-color: #fff;\n",
       "}\n",
       "\n",
       ".estimator-table .parameters-table tr:nth-child(even) {\n",
       "    background-color: #f6f6f6;\n",
       "}\n",
       "\n",
       ".estimator-table .parameters-table tr:hover {\n",
       "    background-color: #e0e0e0;\n",
       "}\n",
       "\n",
       ".estimator-table table td {\n",
       "    border: 1px solid rgba(106, 105, 104, 0.232);\n",
       "}\n",
       "\n",
       ".user-set td {\n",
       "    color:rgb(255, 94, 0);\n",
       "    text-align: left;\n",
       "}\n",
       "\n",
       ".user-set td.value pre {\n",
       "    color:rgb(255, 94, 0) !important;\n",
       "    background-color: transparent !important;\n",
       "}\n",
       "\n",
       ".default td {\n",
       "    color: black;\n",
       "    text-align: left;\n",
       "}\n",
       "\n",
       ".user-set td i,\n",
       ".default td i {\n",
       "    color: black;\n",
       "}\n",
       "\n",
       ".copy-paste-icon {\n",
       "    background-image: url(data:image/svg+xml;base64,PHN2ZyB4bWxucz0iaHR0cDovL3d3dy53My5vcmcvMjAwMC9zdmciIHZpZXdCb3g9IjAgMCA0NDggNTEyIj48IS0tIUZvbnQgQXdlc29tZSBGcmVlIDYuNy4yIGJ5IEBmb250YXdlc29tZSAtIGh0dHBzOi8vZm9udGF3ZXNvbWUuY29tIExpY2Vuc2UgLSBodHRwczovL2ZvbnRhd2Vzb21lLmNvbS9saWNlbnNlL2ZyZWUgQ29weXJpZ2h0IDIwMjUgRm9udGljb25zLCBJbmMuLS0+PHBhdGggZD0iTTIwOCAwTDMzMi4xIDBjMTIuNyAwIDI0LjkgNS4xIDMzLjkgMTQuMWw2Ny45IDY3LjljOSA5IDE0LjEgMjEuMiAxNC4xIDMzLjlMNDQ4IDMzNmMwIDI2LjUtMjEuNSA0OC00OCA0OGwtMTkyIDBjLTI2LjUgMC00OC0yMS41LTQ4LTQ4bDAtMjg4YzAtMjYuNSAyMS41LTQ4IDQ4LTQ4ek00OCAxMjhsODAgMCAwIDY0LTY0IDAgMCAyNTYgMTkyIDAgMC0zMiA2NCAwIDAgNDhjMCAyNi41LTIxLjUgNDgtNDggNDhMNDggNTEyYy0yNi41IDAtNDgtMjEuNS00OC00OEwwIDE3NmMwLTI2LjUgMjEuNS00OCA0OC00OHoiLz48L3N2Zz4=);\n",
       "    background-repeat: no-repeat;\n",
       "    background-size: 14px 14px;\n",
       "    background-position: 0;\n",
       "    display: inline-block;\n",
       "    width: 14px;\n",
       "    height: 14px;\n",
       "    cursor: pointer;\n",
       "}\n",
       "</style><body><div id=\"sk-container-id-1\" class=\"sk-top-container\"><div class=\"sk-text-repr-fallback\"><pre>Pipeline(steps=[(&#x27;preprocessor&#x27;,\n",
       "                 ColumnTransformer(transformers=[(&#x27;clip_bmi&#x27;,\n",
       "                                                  FunctionTransformer(func=&lt;function clip_bmi at 0x15cb5f060&gt;),\n",
       "                                                  [&#x27;bmi&#x27;]),\n",
       "                                                 (&#x27;num&#x27;, StandardScaler(),\n",
       "                                                  [&#x27;age&#x27;, &#x27;bmi&#x27;]),\n",
       "                                                 (&#x27;bin&#x27;,\n",
       "                                                  OrdinalEncoder(categories=[[&#x27;female&#x27;,\n",
       "                                                                              &#x27;male&#x27;],\n",
       "                                                                             [&#x27;no&#x27;,\n",
       "                                                                              &#x27;yes&#x27;]]),\n",
       "                                                  [&#x27;sex&#x27;, &#x27;smoker&#x27;]),\n",
       "                                                 (&#x27;cat&#x27;,\n",
       "                                                  OneHotEncoder(drop=&#x27;first&#x27;,\n",
       "                                                                handle_unknown=&#x27;ignore&#x27;),\n",
       "                                                  [&#x27;region&#x27;]),\n",
       "                                                 (&#x27;pass&#x27;, &#x27;passthrough&#x27;,\n",
       "                                                  [&#x27;children&#x27;])])),\n",
       "                (&#x27;model&#x27;,\n",
       "                 GradientBoostingRegressor(max_features=&#x27;log2&#x27;,\n",
       "                                           min_samples_leaf=4,\n",
       "                                           random_state=1))])</pre><b>In a Jupyter environment, please rerun this cell to show the HTML representation or trust the notebook. <br />On GitHub, the HTML representation is unable to render, please try loading this page with nbviewer.org.</b></div><div class=\"sk-container\" hidden><div class=\"sk-item sk-dashed-wrapped\"><div class=\"sk-label-container\"><div class=\"sk-label fitted sk-toggleable\"><input class=\"sk-toggleable__control sk-hidden--visually\" id=\"sk-estimator-id-1\" type=\"checkbox\" ><label for=\"sk-estimator-id-1\" class=\"sk-toggleable__label fitted sk-toggleable__label-arrow\"><div><div>Pipeline</div></div><div><a class=\"sk-estimator-doc-link fitted\" rel=\"noreferrer\" target=\"_blank\" href=\"https://scikit-learn.org/1.7/modules/generated/sklearn.pipeline.Pipeline.html\">?<span>Documentation for Pipeline</span></a><span class=\"sk-estimator-doc-link fitted\">i<span>Fitted</span></span></div></label><div class=\"sk-toggleable__content fitted\" data-param-prefix=\"\">\n",
       "        <div class=\"estimator-table\">\n",
       "            <details>\n",
       "                <summary>Parameters</summary>\n",
       "                <table class=\"parameters-table\">\n",
       "                  <tbody>\n",
       "                    \n",
       "        <tr class=\"user-set\">\n",
       "            <td><i class=\"copy-paste-icon\"\n",
       "                 onclick=\"copyToClipboard('steps',\n",
       "                          this.parentElement.nextElementSibling)\"\n",
       "            ></i></td>\n",
       "            <td class=\"param\">steps&nbsp;</td>\n",
       "            <td class=\"value\">[(&#x27;preprocessor&#x27;, ...), (&#x27;model&#x27;, ...)]</td>\n",
       "        </tr>\n",
       "    \n",
       "\n",
       "        <tr class=\"default\">\n",
       "            <td><i class=\"copy-paste-icon\"\n",
       "                 onclick=\"copyToClipboard('transform_input',\n",
       "                          this.parentElement.nextElementSibling)\"\n",
       "            ></i></td>\n",
       "            <td class=\"param\">transform_input&nbsp;</td>\n",
       "            <td class=\"value\">None</td>\n",
       "        </tr>\n",
       "    \n",
       "\n",
       "        <tr class=\"default\">\n",
       "            <td><i class=\"copy-paste-icon\"\n",
       "                 onclick=\"copyToClipboard('memory',\n",
       "                          this.parentElement.nextElementSibling)\"\n",
       "            ></i></td>\n",
       "            <td class=\"param\">memory&nbsp;</td>\n",
       "            <td class=\"value\">None</td>\n",
       "        </tr>\n",
       "    \n",
       "\n",
       "        <tr class=\"default\">\n",
       "            <td><i class=\"copy-paste-icon\"\n",
       "                 onclick=\"copyToClipboard('verbose',\n",
       "                          this.parentElement.nextElementSibling)\"\n",
       "            ></i></td>\n",
       "            <td class=\"param\">verbose&nbsp;</td>\n",
       "            <td class=\"value\">False</td>\n",
       "        </tr>\n",
       "    \n",
       "                  </tbody>\n",
       "                </table>\n",
       "            </details>\n",
       "        </div>\n",
       "    </div></div></div><div class=\"sk-serial\"><div class=\"sk-item sk-dashed-wrapped\"><div class=\"sk-label-container\"><div class=\"sk-label fitted sk-toggleable\"><input class=\"sk-toggleable__control sk-hidden--visually\" id=\"sk-estimator-id-2\" type=\"checkbox\" ><label for=\"sk-estimator-id-2\" class=\"sk-toggleable__label fitted sk-toggleable__label-arrow\"><div><div>preprocessor: ColumnTransformer</div></div><div><a class=\"sk-estimator-doc-link fitted\" rel=\"noreferrer\" target=\"_blank\" href=\"https://scikit-learn.org/1.7/modules/generated/sklearn.compose.ColumnTransformer.html\">?<span>Documentation for preprocessor: ColumnTransformer</span></a></div></label><div class=\"sk-toggleable__content fitted\" data-param-prefix=\"preprocessor__\">\n",
       "        <div class=\"estimator-table\">\n",
       "            <details>\n",
       "                <summary>Parameters</summary>\n",
       "                <table class=\"parameters-table\">\n",
       "                  <tbody>\n",
       "                    \n",
       "        <tr class=\"user-set\">\n",
       "            <td><i class=\"copy-paste-icon\"\n",
       "                 onclick=\"copyToClipboard('transformers',\n",
       "                          this.parentElement.nextElementSibling)\"\n",
       "            ></i></td>\n",
       "            <td class=\"param\">transformers&nbsp;</td>\n",
       "            <td class=\"value\">[(&#x27;clip_bmi&#x27;, ...), (&#x27;num&#x27;, ...), ...]</td>\n",
       "        </tr>\n",
       "    \n",
       "\n",
       "        <tr class=\"default\">\n",
       "            <td><i class=\"copy-paste-icon\"\n",
       "                 onclick=\"copyToClipboard('remainder',\n",
       "                          this.parentElement.nextElementSibling)\"\n",
       "            ></i></td>\n",
       "            <td class=\"param\">remainder&nbsp;</td>\n",
       "            <td class=\"value\">&#x27;drop&#x27;</td>\n",
       "        </tr>\n",
       "    \n",
       "\n",
       "        <tr class=\"default\">\n",
       "            <td><i class=\"copy-paste-icon\"\n",
       "                 onclick=\"copyToClipboard('sparse_threshold',\n",
       "                          this.parentElement.nextElementSibling)\"\n",
       "            ></i></td>\n",
       "            <td class=\"param\">sparse_threshold&nbsp;</td>\n",
       "            <td class=\"value\">0.3</td>\n",
       "        </tr>\n",
       "    \n",
       "\n",
       "        <tr class=\"default\">\n",
       "            <td><i class=\"copy-paste-icon\"\n",
       "                 onclick=\"copyToClipboard('n_jobs',\n",
       "                          this.parentElement.nextElementSibling)\"\n",
       "            ></i></td>\n",
       "            <td class=\"param\">n_jobs&nbsp;</td>\n",
       "            <td class=\"value\">None</td>\n",
       "        </tr>\n",
       "    \n",
       "\n",
       "        <tr class=\"default\">\n",
       "            <td><i class=\"copy-paste-icon\"\n",
       "                 onclick=\"copyToClipboard('transformer_weights',\n",
       "                          this.parentElement.nextElementSibling)\"\n",
       "            ></i></td>\n",
       "            <td class=\"param\">transformer_weights&nbsp;</td>\n",
       "            <td class=\"value\">None</td>\n",
       "        </tr>\n",
       "    \n",
       "\n",
       "        <tr class=\"default\">\n",
       "            <td><i class=\"copy-paste-icon\"\n",
       "                 onclick=\"copyToClipboard('verbose',\n",
       "                          this.parentElement.nextElementSibling)\"\n",
       "            ></i></td>\n",
       "            <td class=\"param\">verbose&nbsp;</td>\n",
       "            <td class=\"value\">False</td>\n",
       "        </tr>\n",
       "    \n",
       "\n",
       "        <tr class=\"default\">\n",
       "            <td><i class=\"copy-paste-icon\"\n",
       "                 onclick=\"copyToClipboard('verbose_feature_names_out',\n",
       "                          this.parentElement.nextElementSibling)\"\n",
       "            ></i></td>\n",
       "            <td class=\"param\">verbose_feature_names_out&nbsp;</td>\n",
       "            <td class=\"value\">True</td>\n",
       "        </tr>\n",
       "    \n",
       "\n",
       "        <tr class=\"default\">\n",
       "            <td><i class=\"copy-paste-icon\"\n",
       "                 onclick=\"copyToClipboard('force_int_remainder_cols',\n",
       "                          this.parentElement.nextElementSibling)\"\n",
       "            ></i></td>\n",
       "            <td class=\"param\">force_int_remainder_cols&nbsp;</td>\n",
       "            <td class=\"value\">&#x27;deprecated&#x27;</td>\n",
       "        </tr>\n",
       "    \n",
       "                  </tbody>\n",
       "                </table>\n",
       "            </details>\n",
       "        </div>\n",
       "    </div></div></div><div class=\"sk-parallel\"><div class=\"sk-parallel-item\"><div class=\"sk-item\"><div class=\"sk-label-container\"><div class=\"sk-label fitted sk-toggleable\"><input class=\"sk-toggleable__control sk-hidden--visually\" id=\"sk-estimator-id-3\" type=\"checkbox\" ><label for=\"sk-estimator-id-3\" class=\"sk-toggleable__label fitted sk-toggleable__label-arrow\"><div><div>clip_bmi</div></div></label><div class=\"sk-toggleable__content fitted\" data-param-prefix=\"preprocessor__clip_bmi__\"><pre>[&#x27;bmi&#x27;]</pre></div></div></div><div class=\"sk-serial\"><div class=\"sk-item\"><div class=\"sk-estimator fitted sk-toggleable\"><input class=\"sk-toggleable__control sk-hidden--visually\" id=\"sk-estimator-id-4\" type=\"checkbox\" ><label for=\"sk-estimator-id-4\" class=\"sk-toggleable__label fitted sk-toggleable__label-arrow\"><div><div>clip_bmi</div><div class=\"caption\">FunctionTransformer</div></div><div><a class=\"sk-estimator-doc-link fitted\" rel=\"noreferrer\" target=\"_blank\" href=\"https://scikit-learn.org/1.7/modules/generated/sklearn.preprocessing.FunctionTransformer.html\">?<span>Documentation for FunctionTransformer</span></a></div></label><div class=\"sk-toggleable__content fitted\" data-param-prefix=\"preprocessor__clip_bmi__\">\n",
       "        <div class=\"estimator-table\">\n",
       "            <details>\n",
       "                <summary>Parameters</summary>\n",
       "                <table class=\"parameters-table\">\n",
       "                  <tbody>\n",
       "                    \n",
       "        <tr class=\"user-set\">\n",
       "            <td><i class=\"copy-paste-icon\"\n",
       "                 onclick=\"copyToClipboard('func',\n",
       "                          this.parentElement.nextElementSibling)\"\n",
       "            ></i></td>\n",
       "            <td class=\"param\">func&nbsp;</td>\n",
       "            <td class=\"value\">&lt;function cli...t 0x15cb5f060&gt;</td>\n",
       "        </tr>\n",
       "    \n",
       "\n",
       "        <tr class=\"default\">\n",
       "            <td><i class=\"copy-paste-icon\"\n",
       "                 onclick=\"copyToClipboard('inverse_func',\n",
       "                          this.parentElement.nextElementSibling)\"\n",
       "            ></i></td>\n",
       "            <td class=\"param\">inverse_func&nbsp;</td>\n",
       "            <td class=\"value\">None</td>\n",
       "        </tr>\n",
       "    \n",
       "\n",
       "        <tr class=\"default\">\n",
       "            <td><i class=\"copy-paste-icon\"\n",
       "                 onclick=\"copyToClipboard('validate',\n",
       "                          this.parentElement.nextElementSibling)\"\n",
       "            ></i></td>\n",
       "            <td class=\"param\">validate&nbsp;</td>\n",
       "            <td class=\"value\">False</td>\n",
       "        </tr>\n",
       "    \n",
       "\n",
       "        <tr class=\"default\">\n",
       "            <td><i class=\"copy-paste-icon\"\n",
       "                 onclick=\"copyToClipboard('accept_sparse',\n",
       "                          this.parentElement.nextElementSibling)\"\n",
       "            ></i></td>\n",
       "            <td class=\"param\">accept_sparse&nbsp;</td>\n",
       "            <td class=\"value\">False</td>\n",
       "        </tr>\n",
       "    \n",
       "\n",
       "        <tr class=\"default\">\n",
       "            <td><i class=\"copy-paste-icon\"\n",
       "                 onclick=\"copyToClipboard('check_inverse',\n",
       "                          this.parentElement.nextElementSibling)\"\n",
       "            ></i></td>\n",
       "            <td class=\"param\">check_inverse&nbsp;</td>\n",
       "            <td class=\"value\">True</td>\n",
       "        </tr>\n",
       "    \n",
       "\n",
       "        <tr class=\"default\">\n",
       "            <td><i class=\"copy-paste-icon\"\n",
       "                 onclick=\"copyToClipboard('feature_names_out',\n",
       "                          this.parentElement.nextElementSibling)\"\n",
       "            ></i></td>\n",
       "            <td class=\"param\">feature_names_out&nbsp;</td>\n",
       "            <td class=\"value\">None</td>\n",
       "        </tr>\n",
       "    \n",
       "\n",
       "        <tr class=\"default\">\n",
       "            <td><i class=\"copy-paste-icon\"\n",
       "                 onclick=\"copyToClipboard('kw_args',\n",
       "                          this.parentElement.nextElementSibling)\"\n",
       "            ></i></td>\n",
       "            <td class=\"param\">kw_args&nbsp;</td>\n",
       "            <td class=\"value\">None</td>\n",
       "        </tr>\n",
       "    \n",
       "\n",
       "        <tr class=\"default\">\n",
       "            <td><i class=\"copy-paste-icon\"\n",
       "                 onclick=\"copyToClipboard('inv_kw_args',\n",
       "                          this.parentElement.nextElementSibling)\"\n",
       "            ></i></td>\n",
       "            <td class=\"param\">inv_kw_args&nbsp;</td>\n",
       "            <td class=\"value\">None</td>\n",
       "        </tr>\n",
       "    \n",
       "                  </tbody>\n",
       "                </table>\n",
       "            </details>\n",
       "        </div>\n",
       "    </div></div></div></div></div></div><div class=\"sk-parallel-item\"><div class=\"sk-item\"><div class=\"sk-label-container\"><div class=\"sk-label fitted sk-toggleable\"><input class=\"sk-toggleable__control sk-hidden--visually\" id=\"sk-estimator-id-5\" type=\"checkbox\" ><label for=\"sk-estimator-id-5\" class=\"sk-toggleable__label fitted sk-toggleable__label-arrow\"><div><div>num</div></div></label><div class=\"sk-toggleable__content fitted\" data-param-prefix=\"preprocessor__num__\"><pre>[&#x27;age&#x27;, &#x27;bmi&#x27;]</pre></div></div></div><div class=\"sk-serial\"><div class=\"sk-item\"><div class=\"sk-estimator fitted sk-toggleable\"><input class=\"sk-toggleable__control sk-hidden--visually\" id=\"sk-estimator-id-6\" type=\"checkbox\" ><label for=\"sk-estimator-id-6\" class=\"sk-toggleable__label fitted sk-toggleable__label-arrow\"><div><div>StandardScaler</div></div><div><a class=\"sk-estimator-doc-link fitted\" rel=\"noreferrer\" target=\"_blank\" href=\"https://scikit-learn.org/1.7/modules/generated/sklearn.preprocessing.StandardScaler.html\">?<span>Documentation for StandardScaler</span></a></div></label><div class=\"sk-toggleable__content fitted\" data-param-prefix=\"preprocessor__num__\">\n",
       "        <div class=\"estimator-table\">\n",
       "            <details>\n",
       "                <summary>Parameters</summary>\n",
       "                <table class=\"parameters-table\">\n",
       "                  <tbody>\n",
       "                    \n",
       "        <tr class=\"default\">\n",
       "            <td><i class=\"copy-paste-icon\"\n",
       "                 onclick=\"copyToClipboard('copy',\n",
       "                          this.parentElement.nextElementSibling)\"\n",
       "            ></i></td>\n",
       "            <td class=\"param\">copy&nbsp;</td>\n",
       "            <td class=\"value\">True</td>\n",
       "        </tr>\n",
       "    \n",
       "\n",
       "        <tr class=\"default\">\n",
       "            <td><i class=\"copy-paste-icon\"\n",
       "                 onclick=\"copyToClipboard('with_mean',\n",
       "                          this.parentElement.nextElementSibling)\"\n",
       "            ></i></td>\n",
       "            <td class=\"param\">with_mean&nbsp;</td>\n",
       "            <td class=\"value\">True</td>\n",
       "        </tr>\n",
       "    \n",
       "\n",
       "        <tr class=\"default\">\n",
       "            <td><i class=\"copy-paste-icon\"\n",
       "                 onclick=\"copyToClipboard('with_std',\n",
       "                          this.parentElement.nextElementSibling)\"\n",
       "            ></i></td>\n",
       "            <td class=\"param\">with_std&nbsp;</td>\n",
       "            <td class=\"value\">True</td>\n",
       "        </tr>\n",
       "    \n",
       "                  </tbody>\n",
       "                </table>\n",
       "            </details>\n",
       "        </div>\n",
       "    </div></div></div></div></div></div><div class=\"sk-parallel-item\"><div class=\"sk-item\"><div class=\"sk-label-container\"><div class=\"sk-label fitted sk-toggleable\"><input class=\"sk-toggleable__control sk-hidden--visually\" id=\"sk-estimator-id-7\" type=\"checkbox\" ><label for=\"sk-estimator-id-7\" class=\"sk-toggleable__label fitted sk-toggleable__label-arrow\"><div><div>bin</div></div></label><div class=\"sk-toggleable__content fitted\" data-param-prefix=\"preprocessor__bin__\"><pre>[&#x27;sex&#x27;, &#x27;smoker&#x27;]</pre></div></div></div><div class=\"sk-serial\"><div class=\"sk-item\"><div class=\"sk-estimator fitted sk-toggleable\"><input class=\"sk-toggleable__control sk-hidden--visually\" id=\"sk-estimator-id-8\" type=\"checkbox\" ><label for=\"sk-estimator-id-8\" class=\"sk-toggleable__label fitted sk-toggleable__label-arrow\"><div><div>OrdinalEncoder</div></div><div><a class=\"sk-estimator-doc-link fitted\" rel=\"noreferrer\" target=\"_blank\" href=\"https://scikit-learn.org/1.7/modules/generated/sklearn.preprocessing.OrdinalEncoder.html\">?<span>Documentation for OrdinalEncoder</span></a></div></label><div class=\"sk-toggleable__content fitted\" data-param-prefix=\"preprocessor__bin__\">\n",
       "        <div class=\"estimator-table\">\n",
       "            <details>\n",
       "                <summary>Parameters</summary>\n",
       "                <table class=\"parameters-table\">\n",
       "                  <tbody>\n",
       "                    \n",
       "        <tr class=\"user-set\">\n",
       "            <td><i class=\"copy-paste-icon\"\n",
       "                 onclick=\"copyToClipboard('categories',\n",
       "                          this.parentElement.nextElementSibling)\"\n",
       "            ></i></td>\n",
       "            <td class=\"param\">categories&nbsp;</td>\n",
       "            <td class=\"value\">[[&#x27;female&#x27;, &#x27;male&#x27;], [&#x27;no&#x27;, &#x27;yes&#x27;]]</td>\n",
       "        </tr>\n",
       "    \n",
       "\n",
       "        <tr class=\"default\">\n",
       "            <td><i class=\"copy-paste-icon\"\n",
       "                 onclick=\"copyToClipboard('dtype',\n",
       "                          this.parentElement.nextElementSibling)\"\n",
       "            ></i></td>\n",
       "            <td class=\"param\">dtype&nbsp;</td>\n",
       "            <td class=\"value\">&lt;class &#x27;numpy.float64&#x27;&gt;</td>\n",
       "        </tr>\n",
       "    \n",
       "\n",
       "        <tr class=\"default\">\n",
       "            <td><i class=\"copy-paste-icon\"\n",
       "                 onclick=\"copyToClipboard('handle_unknown',\n",
       "                          this.parentElement.nextElementSibling)\"\n",
       "            ></i></td>\n",
       "            <td class=\"param\">handle_unknown&nbsp;</td>\n",
       "            <td class=\"value\">&#x27;error&#x27;</td>\n",
       "        </tr>\n",
       "    \n",
       "\n",
       "        <tr class=\"default\">\n",
       "            <td><i class=\"copy-paste-icon\"\n",
       "                 onclick=\"copyToClipboard('unknown_value',\n",
       "                          this.parentElement.nextElementSibling)\"\n",
       "            ></i></td>\n",
       "            <td class=\"param\">unknown_value&nbsp;</td>\n",
       "            <td class=\"value\">None</td>\n",
       "        </tr>\n",
       "    \n",
       "\n",
       "        <tr class=\"default\">\n",
       "            <td><i class=\"copy-paste-icon\"\n",
       "                 onclick=\"copyToClipboard('encoded_missing_value',\n",
       "                          this.parentElement.nextElementSibling)\"\n",
       "            ></i></td>\n",
       "            <td class=\"param\">encoded_missing_value&nbsp;</td>\n",
       "            <td class=\"value\">nan</td>\n",
       "        </tr>\n",
       "    \n",
       "\n",
       "        <tr class=\"default\">\n",
       "            <td><i class=\"copy-paste-icon\"\n",
       "                 onclick=\"copyToClipboard('min_frequency',\n",
       "                          this.parentElement.nextElementSibling)\"\n",
       "            ></i></td>\n",
       "            <td class=\"param\">min_frequency&nbsp;</td>\n",
       "            <td class=\"value\">None</td>\n",
       "        </tr>\n",
       "    \n",
       "\n",
       "        <tr class=\"default\">\n",
       "            <td><i class=\"copy-paste-icon\"\n",
       "                 onclick=\"copyToClipboard('max_categories',\n",
       "                          this.parentElement.nextElementSibling)\"\n",
       "            ></i></td>\n",
       "            <td class=\"param\">max_categories&nbsp;</td>\n",
       "            <td class=\"value\">None</td>\n",
       "        </tr>\n",
       "    \n",
       "                  </tbody>\n",
       "                </table>\n",
       "            </details>\n",
       "        </div>\n",
       "    </div></div></div></div></div></div><div class=\"sk-parallel-item\"><div class=\"sk-item\"><div class=\"sk-label-container\"><div class=\"sk-label fitted sk-toggleable\"><input class=\"sk-toggleable__control sk-hidden--visually\" id=\"sk-estimator-id-9\" type=\"checkbox\" ><label for=\"sk-estimator-id-9\" class=\"sk-toggleable__label fitted sk-toggleable__label-arrow\"><div><div>cat</div></div></label><div class=\"sk-toggleable__content fitted\" data-param-prefix=\"preprocessor__cat__\"><pre>[&#x27;region&#x27;]</pre></div></div></div><div class=\"sk-serial\"><div class=\"sk-item\"><div class=\"sk-estimator fitted sk-toggleable\"><input class=\"sk-toggleable__control sk-hidden--visually\" id=\"sk-estimator-id-10\" type=\"checkbox\" ><label for=\"sk-estimator-id-10\" class=\"sk-toggleable__label fitted sk-toggleable__label-arrow\"><div><div>OneHotEncoder</div></div><div><a class=\"sk-estimator-doc-link fitted\" rel=\"noreferrer\" target=\"_blank\" href=\"https://scikit-learn.org/1.7/modules/generated/sklearn.preprocessing.OneHotEncoder.html\">?<span>Documentation for OneHotEncoder</span></a></div></label><div class=\"sk-toggleable__content fitted\" data-param-prefix=\"preprocessor__cat__\">\n",
       "        <div class=\"estimator-table\">\n",
       "            <details>\n",
       "                <summary>Parameters</summary>\n",
       "                <table class=\"parameters-table\">\n",
       "                  <tbody>\n",
       "                    \n",
       "        <tr class=\"default\">\n",
       "            <td><i class=\"copy-paste-icon\"\n",
       "                 onclick=\"copyToClipboard('categories',\n",
       "                          this.parentElement.nextElementSibling)\"\n",
       "            ></i></td>\n",
       "            <td class=\"param\">categories&nbsp;</td>\n",
       "            <td class=\"value\">&#x27;auto&#x27;</td>\n",
       "        </tr>\n",
       "    \n",
       "\n",
       "        <tr class=\"user-set\">\n",
       "            <td><i class=\"copy-paste-icon\"\n",
       "                 onclick=\"copyToClipboard('drop',\n",
       "                          this.parentElement.nextElementSibling)\"\n",
       "            ></i></td>\n",
       "            <td class=\"param\">drop&nbsp;</td>\n",
       "            <td class=\"value\">&#x27;first&#x27;</td>\n",
       "        </tr>\n",
       "    \n",
       "\n",
       "        <tr class=\"default\">\n",
       "            <td><i class=\"copy-paste-icon\"\n",
       "                 onclick=\"copyToClipboard('sparse_output',\n",
       "                          this.parentElement.nextElementSibling)\"\n",
       "            ></i></td>\n",
       "            <td class=\"param\">sparse_output&nbsp;</td>\n",
       "            <td class=\"value\">True</td>\n",
       "        </tr>\n",
       "    \n",
       "\n",
       "        <tr class=\"default\">\n",
       "            <td><i class=\"copy-paste-icon\"\n",
       "                 onclick=\"copyToClipboard('dtype',\n",
       "                          this.parentElement.nextElementSibling)\"\n",
       "            ></i></td>\n",
       "            <td class=\"param\">dtype&nbsp;</td>\n",
       "            <td class=\"value\">&lt;class &#x27;numpy.float64&#x27;&gt;</td>\n",
       "        </tr>\n",
       "    \n",
       "\n",
       "        <tr class=\"user-set\">\n",
       "            <td><i class=\"copy-paste-icon\"\n",
       "                 onclick=\"copyToClipboard('handle_unknown',\n",
       "                          this.parentElement.nextElementSibling)\"\n",
       "            ></i></td>\n",
       "            <td class=\"param\">handle_unknown&nbsp;</td>\n",
       "            <td class=\"value\">&#x27;ignore&#x27;</td>\n",
       "        </tr>\n",
       "    \n",
       "\n",
       "        <tr class=\"default\">\n",
       "            <td><i class=\"copy-paste-icon\"\n",
       "                 onclick=\"copyToClipboard('min_frequency',\n",
       "                          this.parentElement.nextElementSibling)\"\n",
       "            ></i></td>\n",
       "            <td class=\"param\">min_frequency&nbsp;</td>\n",
       "            <td class=\"value\">None</td>\n",
       "        </tr>\n",
       "    \n",
       "\n",
       "        <tr class=\"default\">\n",
       "            <td><i class=\"copy-paste-icon\"\n",
       "                 onclick=\"copyToClipboard('max_categories',\n",
       "                          this.parentElement.nextElementSibling)\"\n",
       "            ></i></td>\n",
       "            <td class=\"param\">max_categories&nbsp;</td>\n",
       "            <td class=\"value\">None</td>\n",
       "        </tr>\n",
       "    \n",
       "\n",
       "        <tr class=\"default\">\n",
       "            <td><i class=\"copy-paste-icon\"\n",
       "                 onclick=\"copyToClipboard('feature_name_combiner',\n",
       "                          this.parentElement.nextElementSibling)\"\n",
       "            ></i></td>\n",
       "            <td class=\"param\">feature_name_combiner&nbsp;</td>\n",
       "            <td class=\"value\">&#x27;concat&#x27;</td>\n",
       "        </tr>\n",
       "    \n",
       "                  </tbody>\n",
       "                </table>\n",
       "            </details>\n",
       "        </div>\n",
       "    </div></div></div></div></div></div><div class=\"sk-parallel-item\"><div class=\"sk-item\"><div class=\"sk-label-container\"><div class=\"sk-label fitted sk-toggleable\"><input class=\"sk-toggleable__control sk-hidden--visually\" id=\"sk-estimator-id-11\" type=\"checkbox\" ><label for=\"sk-estimator-id-11\" class=\"sk-toggleable__label fitted sk-toggleable__label-arrow\"><div><div>pass</div></div></label><div class=\"sk-toggleable__content fitted\" data-param-prefix=\"preprocessor__pass__\"><pre>[&#x27;children&#x27;]</pre></div></div></div><div class=\"sk-serial\"><div class=\"sk-item\"><div class=\"sk-estimator fitted sk-toggleable\"><input class=\"sk-toggleable__control sk-hidden--visually\" id=\"sk-estimator-id-12\" type=\"checkbox\" ><label for=\"sk-estimator-id-12\" class=\"sk-toggleable__label fitted sk-toggleable__label-arrow\"><div><div>passthrough</div></div></label><div class=\"sk-toggleable__content fitted\" data-param-prefix=\"preprocessor__pass__\"><pre>passthrough</pre></div></div></div></div></div></div></div></div><div class=\"sk-item\"><div class=\"sk-estimator fitted sk-toggleable\"><input class=\"sk-toggleable__control sk-hidden--visually\" id=\"sk-estimator-id-13\" type=\"checkbox\" ><label for=\"sk-estimator-id-13\" class=\"sk-toggleable__label fitted sk-toggleable__label-arrow\"><div><div>GradientBoostingRegressor</div></div><div><a class=\"sk-estimator-doc-link fitted\" rel=\"noreferrer\" target=\"_blank\" href=\"https://scikit-learn.org/1.7/modules/generated/sklearn.ensemble.GradientBoostingRegressor.html\">?<span>Documentation for GradientBoostingRegressor</span></a></div></label><div class=\"sk-toggleable__content fitted\" data-param-prefix=\"model__\">\n",
       "        <div class=\"estimator-table\">\n",
       "            <details>\n",
       "                <summary>Parameters</summary>\n",
       "                <table class=\"parameters-table\">\n",
       "                  <tbody>\n",
       "                    \n",
       "        <tr class=\"default\">\n",
       "            <td><i class=\"copy-paste-icon\"\n",
       "                 onclick=\"copyToClipboard('loss',\n",
       "                          this.parentElement.nextElementSibling)\"\n",
       "            ></i></td>\n",
       "            <td class=\"param\">loss&nbsp;</td>\n",
       "            <td class=\"value\">&#x27;squared_error&#x27;</td>\n",
       "        </tr>\n",
       "    \n",
       "\n",
       "        <tr class=\"default\">\n",
       "            <td><i class=\"copy-paste-icon\"\n",
       "                 onclick=\"copyToClipboard('learning_rate',\n",
       "                          this.parentElement.nextElementSibling)\"\n",
       "            ></i></td>\n",
       "            <td class=\"param\">learning_rate&nbsp;</td>\n",
       "            <td class=\"value\">0.1</td>\n",
       "        </tr>\n",
       "    \n",
       "\n",
       "        <tr class=\"default\">\n",
       "            <td><i class=\"copy-paste-icon\"\n",
       "                 onclick=\"copyToClipboard('n_estimators',\n",
       "                          this.parentElement.nextElementSibling)\"\n",
       "            ></i></td>\n",
       "            <td class=\"param\">n_estimators&nbsp;</td>\n",
       "            <td class=\"value\">100</td>\n",
       "        </tr>\n",
       "    \n",
       "\n",
       "        <tr class=\"default\">\n",
       "            <td><i class=\"copy-paste-icon\"\n",
       "                 onclick=\"copyToClipboard('subsample',\n",
       "                          this.parentElement.nextElementSibling)\"\n",
       "            ></i></td>\n",
       "            <td class=\"param\">subsample&nbsp;</td>\n",
       "            <td class=\"value\">1.0</td>\n",
       "        </tr>\n",
       "    \n",
       "\n",
       "        <tr class=\"default\">\n",
       "            <td><i class=\"copy-paste-icon\"\n",
       "                 onclick=\"copyToClipboard('criterion',\n",
       "                          this.parentElement.nextElementSibling)\"\n",
       "            ></i></td>\n",
       "            <td class=\"param\">criterion&nbsp;</td>\n",
       "            <td class=\"value\">&#x27;friedman_mse&#x27;</td>\n",
       "        </tr>\n",
       "    \n",
       "\n",
       "        <tr class=\"default\">\n",
       "            <td><i class=\"copy-paste-icon\"\n",
       "                 onclick=\"copyToClipboard('min_samples_split',\n",
       "                          this.parentElement.nextElementSibling)\"\n",
       "            ></i></td>\n",
       "            <td class=\"param\">min_samples_split&nbsp;</td>\n",
       "            <td class=\"value\">2</td>\n",
       "        </tr>\n",
       "    \n",
       "\n",
       "        <tr class=\"user-set\">\n",
       "            <td><i class=\"copy-paste-icon\"\n",
       "                 onclick=\"copyToClipboard('min_samples_leaf',\n",
       "                          this.parentElement.nextElementSibling)\"\n",
       "            ></i></td>\n",
       "            <td class=\"param\">min_samples_leaf&nbsp;</td>\n",
       "            <td class=\"value\">4</td>\n",
       "        </tr>\n",
       "    \n",
       "\n",
       "        <tr class=\"default\">\n",
       "            <td><i class=\"copy-paste-icon\"\n",
       "                 onclick=\"copyToClipboard('min_weight_fraction_leaf',\n",
       "                          this.parentElement.nextElementSibling)\"\n",
       "            ></i></td>\n",
       "            <td class=\"param\">min_weight_fraction_leaf&nbsp;</td>\n",
       "            <td class=\"value\">0.0</td>\n",
       "        </tr>\n",
       "    \n",
       "\n",
       "        <tr class=\"default\">\n",
       "            <td><i class=\"copy-paste-icon\"\n",
       "                 onclick=\"copyToClipboard('max_depth',\n",
       "                          this.parentElement.nextElementSibling)\"\n",
       "            ></i></td>\n",
       "            <td class=\"param\">max_depth&nbsp;</td>\n",
       "            <td class=\"value\">3</td>\n",
       "        </tr>\n",
       "    \n",
       "\n",
       "        <tr class=\"default\">\n",
       "            <td><i class=\"copy-paste-icon\"\n",
       "                 onclick=\"copyToClipboard('min_impurity_decrease',\n",
       "                          this.parentElement.nextElementSibling)\"\n",
       "            ></i></td>\n",
       "            <td class=\"param\">min_impurity_decrease&nbsp;</td>\n",
       "            <td class=\"value\">0.0</td>\n",
       "        </tr>\n",
       "    \n",
       "\n",
       "        <tr class=\"default\">\n",
       "            <td><i class=\"copy-paste-icon\"\n",
       "                 onclick=\"copyToClipboard('init',\n",
       "                          this.parentElement.nextElementSibling)\"\n",
       "            ></i></td>\n",
       "            <td class=\"param\">init&nbsp;</td>\n",
       "            <td class=\"value\">None</td>\n",
       "        </tr>\n",
       "    \n",
       "\n",
       "        <tr class=\"user-set\">\n",
       "            <td><i class=\"copy-paste-icon\"\n",
       "                 onclick=\"copyToClipboard('random_state',\n",
       "                          this.parentElement.nextElementSibling)\"\n",
       "            ></i></td>\n",
       "            <td class=\"param\">random_state&nbsp;</td>\n",
       "            <td class=\"value\">1</td>\n",
       "        </tr>\n",
       "    \n",
       "\n",
       "        <tr class=\"user-set\">\n",
       "            <td><i class=\"copy-paste-icon\"\n",
       "                 onclick=\"copyToClipboard('max_features',\n",
       "                          this.parentElement.nextElementSibling)\"\n",
       "            ></i></td>\n",
       "            <td class=\"param\">max_features&nbsp;</td>\n",
       "            <td class=\"value\">&#x27;log2&#x27;</td>\n",
       "        </tr>\n",
       "    \n",
       "\n",
       "        <tr class=\"default\">\n",
       "            <td><i class=\"copy-paste-icon\"\n",
       "                 onclick=\"copyToClipboard('alpha',\n",
       "                          this.parentElement.nextElementSibling)\"\n",
       "            ></i></td>\n",
       "            <td class=\"param\">alpha&nbsp;</td>\n",
       "            <td class=\"value\">0.9</td>\n",
       "        </tr>\n",
       "    \n",
       "\n",
       "        <tr class=\"default\">\n",
       "            <td><i class=\"copy-paste-icon\"\n",
       "                 onclick=\"copyToClipboard('verbose',\n",
       "                          this.parentElement.nextElementSibling)\"\n",
       "            ></i></td>\n",
       "            <td class=\"param\">verbose&nbsp;</td>\n",
       "            <td class=\"value\">0</td>\n",
       "        </tr>\n",
       "    \n",
       "\n",
       "        <tr class=\"default\">\n",
       "            <td><i class=\"copy-paste-icon\"\n",
       "                 onclick=\"copyToClipboard('max_leaf_nodes',\n",
       "                          this.parentElement.nextElementSibling)\"\n",
       "            ></i></td>\n",
       "            <td class=\"param\">max_leaf_nodes&nbsp;</td>\n",
       "            <td class=\"value\">None</td>\n",
       "        </tr>\n",
       "    \n",
       "\n",
       "        <tr class=\"default\">\n",
       "            <td><i class=\"copy-paste-icon\"\n",
       "                 onclick=\"copyToClipboard('warm_start',\n",
       "                          this.parentElement.nextElementSibling)\"\n",
       "            ></i></td>\n",
       "            <td class=\"param\">warm_start&nbsp;</td>\n",
       "            <td class=\"value\">False</td>\n",
       "        </tr>\n",
       "    \n",
       "\n",
       "        <tr class=\"default\">\n",
       "            <td><i class=\"copy-paste-icon\"\n",
       "                 onclick=\"copyToClipboard('validation_fraction',\n",
       "                          this.parentElement.nextElementSibling)\"\n",
       "            ></i></td>\n",
       "            <td class=\"param\">validation_fraction&nbsp;</td>\n",
       "            <td class=\"value\">0.1</td>\n",
       "        </tr>\n",
       "    \n",
       "\n",
       "        <tr class=\"default\">\n",
       "            <td><i class=\"copy-paste-icon\"\n",
       "                 onclick=\"copyToClipboard('n_iter_no_change',\n",
       "                          this.parentElement.nextElementSibling)\"\n",
       "            ></i></td>\n",
       "            <td class=\"param\">n_iter_no_change&nbsp;</td>\n",
       "            <td class=\"value\">None</td>\n",
       "        </tr>\n",
       "    \n",
       "\n",
       "        <tr class=\"default\">\n",
       "            <td><i class=\"copy-paste-icon\"\n",
       "                 onclick=\"copyToClipboard('tol',\n",
       "                          this.parentElement.nextElementSibling)\"\n",
       "            ></i></td>\n",
       "            <td class=\"param\">tol&nbsp;</td>\n",
       "            <td class=\"value\">0.0001</td>\n",
       "        </tr>\n",
       "    \n",
       "\n",
       "        <tr class=\"default\">\n",
       "            <td><i class=\"copy-paste-icon\"\n",
       "                 onclick=\"copyToClipboard('ccp_alpha',\n",
       "                          this.parentElement.nextElementSibling)\"\n",
       "            ></i></td>\n",
       "            <td class=\"param\">ccp_alpha&nbsp;</td>\n",
       "            <td class=\"value\">0.0</td>\n",
       "        </tr>\n",
       "    \n",
       "                  </tbody>\n",
       "                </table>\n",
       "            </details>\n",
       "        </div>\n",
       "    </div></div></div></div></div></div></div><script>function copyToClipboard(text, element) {\n",
       "    // Get the parameter prefix from the closest toggleable content\n",
       "    const toggleableContent = element.closest('.sk-toggleable__content');\n",
       "    const paramPrefix = toggleableContent ? toggleableContent.dataset.paramPrefix : '';\n",
       "    const fullParamName = paramPrefix ? `${paramPrefix}${text}` : text;\n",
       "\n",
       "    const originalStyle = element.style;\n",
       "    const computedStyle = window.getComputedStyle(element);\n",
       "    const originalWidth = computedStyle.width;\n",
       "    const originalHTML = element.innerHTML.replace('Copied!', '');\n",
       "\n",
       "    navigator.clipboard.writeText(fullParamName)\n",
       "        .then(() => {\n",
       "            element.style.width = originalWidth;\n",
       "            element.style.color = 'green';\n",
       "            element.innerHTML = \"Copied!\";\n",
       "\n",
       "            setTimeout(() => {\n",
       "                element.innerHTML = originalHTML;\n",
       "                element.style = originalStyle;\n",
       "            }, 2000);\n",
       "        })\n",
       "        .catch(err => {\n",
       "            console.error('Failed to copy:', err);\n",
       "            element.style.color = 'red';\n",
       "            element.innerHTML = \"Failed!\";\n",
       "            setTimeout(() => {\n",
       "                element.innerHTML = originalHTML;\n",
       "                element.style = originalStyle;\n",
       "            }, 2000);\n",
       "        });\n",
       "    return false;\n",
       "}\n",
       "\n",
       "document.querySelectorAll('.fa-regular.fa-copy').forEach(function(element) {\n",
       "    const toggleableContent = element.closest('.sk-toggleable__content');\n",
       "    const paramPrefix = toggleableContent ? toggleableContent.dataset.paramPrefix : '';\n",
       "    const paramName = element.parentElement.nextElementSibling.textContent.trim();\n",
       "    const fullParamName = paramPrefix ? `${paramPrefix}${paramName}` : paramName;\n",
       "\n",
       "    element.setAttribute('title', fullParamName);\n",
       "});\n",
       "</script></body>"
      ],
      "text/plain": [
       "Pipeline(steps=[('preprocessor',\n",
       "                 ColumnTransformer(transformers=[('clip_bmi',\n",
       "                                                  FunctionTransformer(func=<function clip_bmi at 0x15cb5f060>),\n",
       "                                                  ['bmi']),\n",
       "                                                 ('num', StandardScaler(),\n",
       "                                                  ['age', 'bmi']),\n",
       "                                                 ('bin',\n",
       "                                                  OrdinalEncoder(categories=[['female',\n",
       "                                                                              'male'],\n",
       "                                                                             ['no',\n",
       "                                                                              'yes']]),\n",
       "                                                  ['sex', 'smoker']),\n",
       "                                                 ('cat',\n",
       "                                                  OneHotEncoder(drop='first',\n",
       "                                                                handle_unknown='ignore'),\n",
       "                                                  ['region']),\n",
       "                                                 ('pass', 'passthrough',\n",
       "                                                  ['children'])])),\n",
       "                ('model',\n",
       "                 GradientBoostingRegressor(max_features='log2',\n",
       "                                           min_samples_leaf=4,\n",
       "                                           random_state=1))])"
      ]
     },
     "execution_count": 49,
     "metadata": {},
     "output_type": "execute_result"
    }
   ],
   "source": [
    "# builing the pipeline\n",
    "model = gb_best\n",
    "pipeline = Pipeline(\n",
    "    steps=[\n",
    "        ('preprocessor', preprocessor),\n",
    "        ('model', model)])\n",
    "\n",
    "# final training on complete dataset\n",
    "x = df[['age', 'bmi', 'children', 'smoker', 'sex', 'region']]\n",
    "y = df['charges_log']\n",
    "\n",
    "# training the pipeline\n",
    "pipeline.fit(x, y)"
   ]
  },
  {
   "cell_type": "markdown",
   "id": "e2b82b3a",
   "metadata": {},
   "source": [
    "## Saving the Pipeline"
   ]
  },
  {
   "cell_type": "code",
   "execution_count": 50,
   "id": "c3a63862",
   "metadata": {},
   "outputs": [
    {
     "data": {
      "text/plain": [
       "['model_pipeline.pkl']"
      ]
     },
     "execution_count": 50,
     "metadata": {},
     "output_type": "execute_result"
    }
   ],
   "source": [
    "# save the pipeline\n",
    "joblib.dump(pipeline, 'model_pipeline.pkl')"
   ]
  },
  {
   "cell_type": "markdown",
   "id": "55b1ca01",
   "metadata": {},
   "source": [
    "## Testing on New/Unseen Data"
   ]
  },
  {
   "cell_type": "code",
   "execution_count": 51,
   "id": "68bdea9d",
   "metadata": {},
   "outputs": [
    {
     "name": "stdout",
     "output_type": "stream",
     "text": [
      "Insurance Charges Prediction\n",
      "Case 1 = 3913.07\n",
      "Case 2 = 46244.16\n"
     ]
    }
   ],
   "source": [
    "new_data = pd.DataFrame({\n",
    "    'age' : [25, 32],\n",
    "    'bmi' : [18.25, 49.5],\n",
    "    'sex' : ['female', 'male'],\n",
    "    'smoker': ['no', 'yes'],\n",
    "    'children' : [0, 2],\n",
    "    'region' : ['northwest', 'southeast']})\n",
    "\n",
    "loaded_pipeline = joblib.load('model_pipeline.pkl')\n",
    "predictions = loaded_pipeline.predict(new_data)\n",
    "print(f'Insurance Charges Prediction\\nCase 1 = {round(np.exp(predictions[0]),2)}\\nCase 2 = {round(np.exp(predictions[1]),2)}') # charges transformed to orginal format"
   ]
  }
 ],
 "metadata": {
  "kernelspec": {
   "display_name": "Python 3",
   "language": "python",
   "name": "python3"
  },
  "language_info": {
   "codemirror_mode": {
    "name": "ipython",
    "version": 3
   },
   "file_extension": ".py",
   "mimetype": "text/x-python",
   "name": "python",
   "nbconvert_exporter": "python",
   "pygments_lexer": "ipython3",
   "version": "3.11.0"
  }
 },
 "nbformat": 4,
 "nbformat_minor": 5
}
